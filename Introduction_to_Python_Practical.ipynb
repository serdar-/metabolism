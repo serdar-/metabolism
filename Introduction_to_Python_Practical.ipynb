{
  "nbformat": 4,
  "nbformat_minor": 0,
  "metadata": {
    "colab": {
      "name": "Introduction to Python Practical.ipynb",
      "version": "0.3.2",
      "provenance": [],
      "collapsed_sections": [],
      "toc_visible": true,
      "include_colab_link": true
    },
    "kernelspec": {
      "name": "python3",
      "display_name": "Python 3"
    }
  },
  "cells": [
    {
      "cell_type": "markdown",
      "metadata": {
        "id": "view-in-github",
        "colab_type": "text"
      },
      "source": [
        "<a href=\"https://colab.research.google.com/github/serdar-/metabolism/blob/master/Introduction_to_Python_Practical.ipynb\" target=\"_parent\"><img src=\"https://colab.research.google.com/assets/colab-badge.svg\" alt=\"Open In Colab\"/></a>"
      ]
    },
    {
      "metadata": {
        "id": "4fxkdqOdsMl5",
        "colab_type": "text"
      },
      "cell_type": "markdown",
      "source": [
        "# Introduction to Python \n",
        "\n",
        "**Metabolism**\n",
        "\n",
        "_Serdar Ozsezen_\n",
        "\n",
        "_28th November 2018_\n",
        "\n"
      ]
    },
    {
      "metadata": {
        "id": "ghAxf4c4xDtC",
        "colab_type": "text"
      },
      "cell_type": "markdown",
      "source": [
        "## Programming at a glance\n",
        "\n",
        "- Computers are complicated calculators. However, just like calculators they do one simple task, which is computation. In order to perform computations, we give certain instructions to the computer. These set of instructions are called **code** or **programs**. \n",
        "\n",
        "- You can think of the program as DNA. It gets transcribed into mRNA (machine language) by RNA polymerase (compiler or interpreter). Then mRNA gets processed in the ribosome, which is the **CPU (central processing unit)** of the computer. The output of the program is the protein. DNA, mRNA and proteins are all kept in the cytosol, which is the **memory** of the computer. \n",
        "\n",
        "- We use a specific languages to give instructions to the computer. These languages are called **programming languages**. Programming languages can be either close to a language that computers can easily understand (low-level languages) or humans can understand (high-level languages). **Python** is a popular high-level programming language, widely used by scientists and engineers. "
      ]
    },
    {
      "metadata": {
        "id": "ig2f5M9kTee4",
        "colab_type": "text"
      },
      "cell_type": "markdown",
      "source": [
        "## Jupyter notebook \n",
        "\n",
        "- What you are currently running in your browser is called a **Jupyter notebook**. \n",
        "- Jupyter notebook provides an environment for you to write structured text (similar to Microsoft Word)  and at the same time run your code and save your analysis results. \n",
        "- All content in Jupyter notebook are divided in containers that are called **cells**. \n",
        "- In order to render the text inside a cell or run the code, you need to press **Shift + Enter** or push the play button located at the left top corner of the cell. "
      ]
    },
    {
      "metadata": {
        "id": "DZDQ0MUkQf24",
        "colab_type": "text"
      },
      "cell_type": "markdown",
      "source": [
        "## Variable definitions and types\n"
      ]
    },
    {
      "metadata": {
        "id": "vMEPYmq0VwyD",
        "colab_type": "text"
      },
      "cell_type": "markdown",
      "source": [
        "### Definition of variables\n",
        "\n",
        "- Data we are going to process could be in form of text or numbers.\n",
        "- Data is kept in entities that are called **variables**. \n",
        "- In order to define variables, first we give a name to the variable. This name should always start with a letter or underscore, you can also use numbers within the name. However, the first character of the name of the variable cannot start with a number. Ideally name of the variable should be descriptive of the data it represents. \n",
        "- You cannot have space inside a variable name. \n",
        "- As a convention, when variable names are made out of multiple words, the words are separated with underscore. \n",
        "- Some example variable names are `R`, `vapor_pressure`, `reaction_1`, `S_matrix`.\n",
        "- To define the variable we use **equals sign**, we will see the examples of it in the following chapters."
      ]
    },
    {
      "metadata": {
        "id": "bjTKR6sYTFc6",
        "colab_type": "text"
      },
      "cell_type": "markdown",
      "source": [
        "### Strings\n",
        "If the data is represented as text, then we call this variable **string**. Strings are text that are written in quotes."
      ]
    },
    {
      "metadata": {
        "id": "O48CkXibR_K4",
        "colab_type": "code",
        "colab": {}
      },
      "cell_type": "code",
      "source": [
        "var1 = \"I am a string\"\n",
        "var2 = 'I AM A STRING '\n",
        "var3 = \"\"\"I am a\n",
        "multiline \n",
        "string\n",
        "\"\"\""
      ],
      "execution_count": 0,
      "outputs": []
    },
    {
      "metadata": {
        "id": "GPjs0DLHTBCg",
        "colab_type": "text"
      },
      "cell_type": "markdown",
      "source": [
        "There are numerous ways to manipulate strings. There are some examples below:"
      ]
    },
    {
      "metadata": {
        "id": "OQ3XSWTsTGUA",
        "colab_type": "code",
        "outputId": "a85e0bb3-82a2-4810-b94e-e018c6fd1ee6",
        "colab": {
          "base_uri": "https://localhost:8080/",
          "height": 34
        }
      },
      "cell_type": "code",
      "source": [
        "var2 + var1 # Connect two different text into one"
      ],
      "execution_count": 2,
      "outputs": [
        {
          "output_type": "execute_result",
          "data": {
            "text/plain": [
              "'I AM A STRING I am a string'"
            ]
          },
          "metadata": {
            "tags": []
          },
          "execution_count": 2
        }
      ]
    },
    {
      "metadata": {
        "id": "YUDc-ETEAQKl",
        "colab_type": "text"
      },
      "cell_type": "markdown",
      "source": [
        "You have probably realized that once a text starts with # (pound), it is ignored by the interpreter. Which means that you can actually write comments inside your code by putting a pound sign in front of your comment text."
      ]
    },
    {
      "metadata": {
        "id": "qea40M2LTQII",
        "colab_type": "code",
        "outputId": "311634f7-69bc-4f10-ed72-b57289899363",
        "colab": {
          "base_uri": "https://localhost:8080/",
          "height": 34
        }
      },
      "cell_type": "code",
      "source": [
        "var1[0:4] # First four letters of the text "
      ],
      "execution_count": 3,
      "outputs": [
        {
          "output_type": "execute_result",
          "data": {
            "text/plain": [
              "'I am'"
            ]
          },
          "metadata": {
            "tags": []
          },
          "execution_count": 3
        }
      ]
    },
    {
      "metadata": {
        "id": "wGZEIKy3AzzD",
        "colab_type": "code",
        "outputId": "c52ce2e8-8994-4781-877b-4bd807799f23",
        "colab": {
          "base_uri": "https://localhost:8080/",
          "height": 34
        }
      },
      "cell_type": "code",
      "source": [
        "var1[-1] # Last letter of the text"
      ],
      "execution_count": 4,
      "outputs": [
        {
          "output_type": "execute_result",
          "data": {
            "text/plain": [
              "'g'"
            ]
          },
          "metadata": {
            "tags": []
          },
          "execution_count": 4
        }
      ]
    },
    {
      "metadata": {
        "id": "pD2ZXLt_QNnl",
        "colab_type": "code",
        "outputId": "23a59331-868f-4fad-bae5-d175e7f72161",
        "colab": {
          "base_uri": "https://localhost:8080/",
          "height": 34
        }
      },
      "cell_type": "code",
      "source": [
        "var3[3] # Fourth character of the text"
      ],
      "execution_count": 5,
      "outputs": [
        {
          "output_type": "execute_result",
          "data": {
            "text/plain": [
              "'m'"
            ]
          },
          "metadata": {
            "tags": []
          },
          "execution_count": 5
        }
      ]
    },
    {
      "metadata": {
        "id": "tVHfxeEEQZTO",
        "colab_type": "text"
      },
      "cell_type": "markdown",
      "source": [
        "As you can see from the examples above, indexing of the letters start from **0** instead of 1. Thus, if you want to access to the first letter in the string you need to ask the 0th element. This is also the case for other sequence-like data that we are going to see later on. "
      ]
    },
    {
      "metadata": {
        "id": "xsBTwaDzf7z3",
        "colab_type": "text"
      },
      "cell_type": "markdown",
      "source": [
        "### Numbers\n",
        "\n",
        "In general, we use two types of numbers to make calculations in Python. These are **floating point** (`float`) or **integer** (`int`)."
      ]
    },
    {
      "metadata": {
        "id": "3hWGd0exf7z4",
        "colab_type": "code",
        "colab": {}
      },
      "cell_type": "code",
      "source": [
        "num1 = 5\n",
        "num2 = 5.\n",
        "num3 = 6.789"
      ],
      "execution_count": 0,
      "outputs": []
    },
    {
      "metadata": {
        "id": "Yq74Z1q9f7z_",
        "colab_type": "text"
      },
      "cell_type": "markdown",
      "source": [
        "In order to learn what type of number you have, you can use the function _type_. This function will tell you what type of variable that you have and you can use it for other variables as well."
      ]
    },
    {
      "metadata": {
        "id": "4FRdSkeUf70A",
        "colab_type": "code",
        "outputId": "91527bb6-d3d8-4c6c-da0e-11b47e79b9f9",
        "colab": {
          "base_uri": "https://localhost:8080/",
          "height": 34
        }
      },
      "cell_type": "code",
      "source": [
        "type(num1)"
      ],
      "execution_count": 7,
      "outputs": [
        {
          "output_type": "execute_result",
          "data": {
            "text/plain": [
              "int"
            ]
          },
          "metadata": {
            "tags": []
          },
          "execution_count": 7
        }
      ]
    },
    {
      "metadata": {
        "id": "kDeF_CAvf70C",
        "colab_type": "code",
        "outputId": "508a1a91-4422-4017-d248-f07b2f3e3e2c",
        "colab": {
          "base_uri": "https://localhost:8080/",
          "height": 34
        }
      },
      "cell_type": "code",
      "source": [
        "type(num2)"
      ],
      "execution_count": 8,
      "outputs": [
        {
          "output_type": "execute_result",
          "data": {
            "text/plain": [
              "float"
            ]
          },
          "metadata": {
            "tags": []
          },
          "execution_count": 8
        }
      ]
    },
    {
      "metadata": {
        "id": "wHCYpevif70H",
        "colab_type": "code",
        "outputId": "5ff93ea9-a59c-4dae-b11e-63a785ed4d1d",
        "colab": {
          "base_uri": "https://localhost:8080/",
          "height": 34
        }
      },
      "cell_type": "code",
      "source": [
        "new_number = num1 + num2 # Adding an int to a float\n",
        "type(new_number) # will give float as a result"
      ],
      "execution_count": 9,
      "outputs": [
        {
          "output_type": "execute_result",
          "data": {
            "text/plain": [
              "float"
            ]
          },
          "metadata": {
            "tags": []
          },
          "execution_count": 9
        }
      ]
    },
    {
      "metadata": {
        "id": "jjR-TEjEf70K",
        "colab_type": "text"
      },
      "cell_type": "markdown",
      "source": [
        "Use _int_ when indexing is necessary. Besides that try to use _float_. You do not need to define floating point numbers explicitly. If you use a point in the definition of the number, Python will understand that it is a floating point number. \n",
        "\n",
        "#### Basic mathematical operations with numbers\n",
        "\n",
        "Here are some examples of how you can do mathematical operations on numbers.\n",
        "\n"
      ]
    },
    {
      "metadata": {
        "id": "1p_SS1_iWw4_",
        "colab_type": "code",
        "outputId": "efcd5011-fe86-4e06-83b1-cfbb140ff388",
        "colab": {
          "base_uri": "https://localhost:8080/",
          "height": 34
        }
      },
      "cell_type": "code",
      "source": [
        "num1 + num2 # Addition "
      ],
      "execution_count": 10,
      "outputs": [
        {
          "output_type": "execute_result",
          "data": {
            "text/plain": [
              "10.0"
            ]
          },
          "metadata": {
            "tags": []
          },
          "execution_count": 10
        }
      ]
    },
    {
      "metadata": {
        "id": "_2XVZtPmW-ss",
        "colab_type": "code",
        "outputId": "7f45d9e6-59af-47dc-b7e2-d9ede4a69bca",
        "colab": {
          "base_uri": "https://localhost:8080/",
          "height": 34
        }
      },
      "cell_type": "code",
      "source": [
        "num1 - num2 # Subtraction"
      ],
      "execution_count": 11,
      "outputs": [
        {
          "output_type": "execute_result",
          "data": {
            "text/plain": [
              "0.0"
            ]
          },
          "metadata": {
            "tags": []
          },
          "execution_count": 11
        }
      ]
    },
    {
      "metadata": {
        "id": "OI4sL1O4XJ35",
        "colab_type": "code",
        "outputId": "b507f599-ef50-4d21-ad70-1513acc0cd84",
        "colab": {
          "base_uri": "https://localhost:8080/",
          "height": 34
        }
      },
      "cell_type": "code",
      "source": [
        "negative_num2 = -num2 # Change the sign of a number\n",
        "\n",
        "negative_num2 # You can also asign the result of an \n",
        "              # operation to a new variable"
      ],
      "execution_count": 12,
      "outputs": [
        {
          "output_type": "execute_result",
          "data": {
            "text/plain": [
              "-5.0"
            ]
          },
          "metadata": {
            "tags": []
          },
          "execution_count": 12
        }
      ]
    },
    {
      "metadata": {
        "id": "d8GWSy5Jf70L",
        "colab_type": "code",
        "outputId": "a4622c7d-a466-4834-a05b-506820e8a56e",
        "colab": {
          "base_uri": "https://localhost:8080/",
          "height": 34
        }
      },
      "cell_type": "code",
      "source": [
        "num1*num2 # Multiply"
      ],
      "execution_count": 13,
      "outputs": [
        {
          "output_type": "execute_result",
          "data": {
            "text/plain": [
              "25.0"
            ]
          },
          "metadata": {
            "tags": []
          },
          "execution_count": 13
        }
      ]
    },
    {
      "metadata": {
        "id": "PbXb9KZYf70P",
        "colab_type": "code",
        "outputId": "1bc45e75-afbf-4f89-af10-845dd94a5b30",
        "colab": {
          "base_uri": "https://localhost:8080/",
          "height": 34
        }
      },
      "cell_type": "code",
      "source": [
        "pi = 22./7. # Divide\n",
        "pi"
      ],
      "execution_count": 14,
      "outputs": [
        {
          "output_type": "execute_result",
          "data": {
            "text/plain": [
              "3.142857142857143"
            ]
          },
          "metadata": {
            "tags": []
          },
          "execution_count": 14
        }
      ]
    },
    {
      "metadata": {
        "id": "nn1zRCUIf70V",
        "colab_type": "code",
        "outputId": "3d43ab94-c41a-411e-9892-cc3dd90323d6",
        "colab": {
          "base_uri": "https://localhost:8080/",
          "height": 34
        }
      },
      "cell_type": "code",
      "source": [
        "num1**num2 # Power"
      ],
      "execution_count": 15,
      "outputs": [
        {
          "output_type": "execute_result",
          "data": {
            "text/plain": [
              "3125.0"
            ]
          },
          "metadata": {
            "tags": []
          },
          "execution_count": 15
        }
      ]
    },
    {
      "metadata": {
        "id": "2mM5rSTGwaOH",
        "colab_type": "text"
      },
      "cell_type": "markdown",
      "source": [
        "### Boolean\n",
        "\n",
        "Boolean is a binary form of variable that only takes `True` or `False` as value. It is useful for comparing numbers and other types of variables. "
      ]
    },
    {
      "metadata": {
        "id": "fnLjSIynxAyl",
        "colab_type": "code",
        "outputId": "fed66e29-1cee-4495-8b50-497b3c9146dc",
        "colab": {
          "base_uri": "https://localhost:8080/",
          "height": 34
        }
      },
      "cell_type": "code",
      "source": [
        "num1 > num2"
      ],
      "execution_count": 16,
      "outputs": [
        {
          "output_type": "execute_result",
          "data": {
            "text/plain": [
              "False"
            ]
          },
          "metadata": {
            "tags": []
          },
          "execution_count": 16
        }
      ]
    },
    {
      "metadata": {
        "id": "vWO5CLpJxWso",
        "colab_type": "code",
        "outputId": "7cfaed5a-c395-42d1-8dcf-b46ccc108698",
        "colab": {
          "base_uri": "https://localhost:8080/",
          "height": 34
        }
      },
      "cell_type": "code",
      "source": [
        "num1 == num2"
      ],
      "execution_count": 17,
      "outputs": [
        {
          "output_type": "execute_result",
          "data": {
            "text/plain": [
              "True"
            ]
          },
          "metadata": {
            "tags": []
          },
          "execution_count": 17
        }
      ]
    },
    {
      "metadata": {
        "id": "8AkMvzo3f70Y",
        "colab_type": "text"
      },
      "cell_type": "markdown",
      "source": [
        "### Data structures \n",
        "\n",
        "Sometimes you need to keep more than one value in one variable. Then you need to use different so called **data structures**. "
      ]
    },
    {
      "metadata": {
        "id": "eLEBAWRu-NoE",
        "colab_type": "text"
      },
      "cell_type": "markdown",
      "source": [
        "#### List\n",
        "\n",
        "One of the first and the most useful data structures in Python is called a **list**. As the name states, it is capable of keeping a list of values. "
      ]
    },
    {
      "metadata": {
        "id": "dTCB5_Dsf70Z",
        "colab_type": "code",
        "colab": {}
      },
      "cell_type": "code",
      "source": [
        "list1 = [] # Empty list\n",
        "list2 = [1,2]\n",
        "list3 = [\"1\",\"2\"]\n",
        "list4 = [[1],[1,2],[1,2,3]] # Nested list (list in a list)\n",
        "list5 = [1,1,2,3,3,3,3]"
      ],
      "execution_count": 0,
      "outputs": []
    },
    {
      "metadata": {
        "id": "8JET0-BGf70d",
        "colab_type": "text"
      },
      "cell_type": "markdown",
      "source": [
        "Similar to getting a letter on a certain index, it is also possible to get elements of a list by indexing. Indexing starts from **0**. "
      ]
    },
    {
      "metadata": {
        "id": "PaOM3K7jf70d",
        "colab_type": "code",
        "outputId": "111f68a8-2994-41fc-eca2-618f2b8eb2d6",
        "colab": {
          "base_uri": "https://localhost:8080/",
          "height": 34
        }
      },
      "cell_type": "code",
      "source": [
        "list2[0] # First element of list2"
      ],
      "execution_count": 19,
      "outputs": [
        {
          "output_type": "execute_result",
          "data": {
            "text/plain": [
              "1"
            ]
          },
          "metadata": {
            "tags": []
          },
          "execution_count": 19
        }
      ]
    },
    {
      "metadata": {
        "id": "4uIXyy_8f70i",
        "colab_type": "code",
        "outputId": "a27496f9-6dfe-48f0-d602-d3d44e786dd5",
        "colab": {
          "base_uri": "https://localhost:8080/",
          "height": 34
        }
      },
      "cell_type": "code",
      "source": [
        "list2[1] # Second element of list2"
      ],
      "execution_count": 20,
      "outputs": [
        {
          "output_type": "execute_result",
          "data": {
            "text/plain": [
              "2"
            ]
          },
          "metadata": {
            "tags": []
          },
          "execution_count": 20
        }
      ]
    },
    {
      "metadata": {
        "id": "_OHjKgKKf70l",
        "colab_type": "code",
        "outputId": "fe477968-f5ba-46e8-95d6-a8499e367668",
        "colab": {
          "base_uri": "https://localhost:8080/",
          "height": 34
        }
      },
      "cell_type": "code",
      "source": [
        "list4[2][1] # Second element of the third element of list4"
      ],
      "execution_count": 21,
      "outputs": [
        {
          "output_type": "execute_result",
          "data": {
            "text/plain": [
              "2"
            ]
          },
          "metadata": {
            "tags": []
          },
          "execution_count": 21
        }
      ]
    },
    {
      "metadata": {
        "id": "yloV7_5of70p",
        "colab_type": "code",
        "outputId": "802eb9e7-c86f-43d3-ff41-c367a0422c82",
        "colab": {
          "base_uri": "https://localhost:8080/",
          "height": 34
        }
      },
      "cell_type": "code",
      "source": [
        "list1.append(\"Jan\") # Add an element to list1\n",
        "list1.append(\"Piet\")\n",
        "list1"
      ],
      "execution_count": 22,
      "outputs": [
        {
          "output_type": "execute_result",
          "data": {
            "text/plain": [
              "['Jan', 'Piet']"
            ]
          },
          "metadata": {
            "tags": []
          },
          "execution_count": 22
        }
      ]
    },
    {
      "metadata": {
        "id": "NpM9L0XJf70x",
        "colab_type": "code",
        "outputId": "255bbce4-decc-42a7-cfe9-f2fa3230527a",
        "colab": {
          "base_uri": "https://localhost:8080/",
          "height": 34
        }
      },
      "cell_type": "code",
      "source": [
        "len(list1) # How long is list1?"
      ],
      "execution_count": 23,
      "outputs": [
        {
          "output_type": "execute_result",
          "data": {
            "text/plain": [
              "2"
            ]
          },
          "metadata": {
            "tags": []
          },
          "execution_count": 23
        }
      ]
    },
    {
      "metadata": {
        "id": "aM2Ep5o6f701",
        "colab_type": "code",
        "outputId": "18cf89ff-ce6b-4ae0-e3c9-40a96ed9b676",
        "colab": {
          "base_uri": "https://localhost:8080/",
          "height": 34
        }
      },
      "cell_type": "code",
      "source": [
        "list1[0] = \"Mark\" # Change first element to \"Mark\"\n",
        "list1"
      ],
      "execution_count": 24,
      "outputs": [
        {
          "output_type": "execute_result",
          "data": {
            "text/plain": [
              "['Mark', 'Piet']"
            ]
          },
          "metadata": {
            "tags": []
          },
          "execution_count": 24
        }
      ]
    },
    {
      "metadata": {
        "id": "noaKs3y5f704",
        "colab_type": "code",
        "outputId": "7d31b97c-f997-4f26-9fb7-2263edac1901",
        "colab": {
          "base_uri": "https://localhost:8080/",
          "height": 34
        }
      },
      "cell_type": "code",
      "source": [
        "len(list4) # What is the length of list4?"
      ],
      "execution_count": 25,
      "outputs": [
        {
          "output_type": "execute_result",
          "data": {
            "text/plain": [
              "3"
            ]
          },
          "metadata": {
            "tags": []
          },
          "execution_count": 25
        }
      ]
    },
    {
      "metadata": {
        "id": "UOE1vMEEf707",
        "colab_type": "code",
        "outputId": "7ad5580b-90f1-411e-fd3a-5423698d7c17",
        "colab": {
          "base_uri": "https://localhost:8080/",
          "height": 34
        }
      },
      "cell_type": "code",
      "source": [
        "list1.index(\"Piet\") # What is the index of \"Piet\" element?"
      ],
      "execution_count": 26,
      "outputs": [
        {
          "output_type": "execute_result",
          "data": {
            "text/plain": [
              "1"
            ]
          },
          "metadata": {
            "tags": []
          },
          "execution_count": 26
        }
      ]
    },
    {
      "metadata": {
        "id": "hgkMJYeSf709",
        "colab_type": "text"
      },
      "cell_type": "markdown",
      "source": [
        "_index_ only gives the first occurence of the element that you look for in the list. "
      ]
    },
    {
      "metadata": {
        "id": "XT1eB2HHf71G",
        "colab_type": "text"
      },
      "cell_type": "markdown",
      "source": [
        "#### Tuple \n",
        "\n",
        "**Tuple** is similar to **list**, however it is not possible to change or manipulate its elements once it is created. However, it is possible to process it faster in comparison to **list**. If you need to keep a number of constant values in one variable, it is a very useful data structure. Tuples are defined using parantheses. "
      ]
    },
    {
      "metadata": {
        "id": "ZT10wufZf71G",
        "colab_type": "code",
        "colab": {}
      },
      "cell_type": "code",
      "source": [
        "tuple1 = (\"this\",\"is\",\"a\",\"tuple\")"
      ],
      "execution_count": 0,
      "outputs": []
    },
    {
      "metadata": {
        "id": "n3VOciS0f71I",
        "colab_type": "code",
        "outputId": "9c4ad23d-7595-4fee-d748-287a9367d3dd",
        "colab": {
          "base_uri": "https://localhost:8080/",
          "height": 34
        }
      },
      "cell_type": "code",
      "source": [
        "tuple1[2] # It is possible to access to its elements similar to list"
      ],
      "execution_count": 28,
      "outputs": [
        {
          "output_type": "execute_result",
          "data": {
            "text/plain": [
              "'a'"
            ]
          },
          "metadata": {
            "tags": []
          },
          "execution_count": 28
        }
      ]
    },
    {
      "metadata": {
        "id": "gSRMh3Qqf71S",
        "colab_type": "code",
        "outputId": "5bde191e-e9b2-4a6f-cb27-b57bbbf67b0e",
        "colab": {
          "base_uri": "https://localhost:8080/",
          "height": 34
        }
      },
      "cell_type": "code",
      "source": [
        "tuple1.index(\"is\") # Index of an element in a tuple"
      ],
      "execution_count": 29,
      "outputs": [
        {
          "output_type": "execute_result",
          "data": {
            "text/plain": [
              "1"
            ]
          },
          "metadata": {
            "tags": []
          },
          "execution_count": 29
        }
      ]
    },
    {
      "metadata": {
        "id": "1COpWnrQf71Y",
        "colab_type": "text"
      },
      "cell_type": "markdown",
      "source": [
        "#### Dictionary \n",
        "\n",
        "Dictionary is actually a key-value storage. You can relate any two variables with each other and use it like that. Think of it like a table with two columns. On the first column there are keys and on the second column there are values. It is defined using curved brackets."
      ]
    },
    {
      "metadata": {
        "id": "TxSwhXEbf71Z",
        "colab_type": "code",
        "colab": {}
      },
      "cell_type": "code",
      "source": [
        "dict1 = {} # Empty dictionary \n",
        "dict2 = {1: \"A\", 2: \"B\"} "
      ],
      "execution_count": 0,
      "outputs": []
    },
    {
      "metadata": {
        "id": "etrv-uZaf71c",
        "colab_type": "code",
        "outputId": "82217949-8097-45fd-e62f-94062688d9a7",
        "colab": {
          "base_uri": "https://localhost:8080/",
          "height": 34
        }
      },
      "cell_type": "code",
      "source": [
        "dict2[1] # Value of the key 1"
      ],
      "execution_count": 31,
      "outputs": [
        {
          "output_type": "execute_result",
          "data": {
            "text/plain": [
              "'A'"
            ]
          },
          "metadata": {
            "tags": []
          },
          "execution_count": 31
        }
      ]
    },
    {
      "metadata": {
        "id": "j9EHeeAIf71g",
        "colab_type": "code",
        "outputId": "9c92703c-0304-4e66-a1f9-3738214577cf",
        "colab": {
          "base_uri": "https://localhost:8080/",
          "height": 34
        }
      },
      "cell_type": "code",
      "source": [
        "dict2[2] # Value of the key 2"
      ],
      "execution_count": 32,
      "outputs": [
        {
          "output_type": "execute_result",
          "data": {
            "text/plain": [
              "'B'"
            ]
          },
          "metadata": {
            "tags": []
          },
          "execution_count": 32
        }
      ]
    },
    {
      "metadata": {
        "id": "50X3h_XUf71o",
        "colab_type": "code",
        "outputId": "c812ea00-3ae8-4c59-b92f-d17abefa2678",
        "colab": {
          "base_uri": "https://localhost:8080/",
          "height": 34
        }
      },
      "cell_type": "code",
      "source": [
        "dict2.keys() # All keys in dict2"
      ],
      "execution_count": 33,
      "outputs": [
        {
          "output_type": "execute_result",
          "data": {
            "text/plain": [
              "dict_keys([1, 2])"
            ]
          },
          "metadata": {
            "tags": []
          },
          "execution_count": 33
        }
      ]
    },
    {
      "metadata": {
        "id": "7lKYp8RPf71q",
        "colab_type": "code",
        "outputId": "95c55b5f-10ba-4a8e-947b-61e8cae8d8df",
        "colab": {
          "base_uri": "https://localhost:8080/",
          "height": 34
        }
      },
      "cell_type": "code",
      "source": [
        "dict2.values() # All values in dict2"
      ],
      "execution_count": 34,
      "outputs": [
        {
          "output_type": "execute_result",
          "data": {
            "text/plain": [
              "dict_values(['A', 'B'])"
            ]
          },
          "metadata": {
            "tags": []
          },
          "execution_count": 34
        }
      ]
    },
    {
      "metadata": {
        "id": "NywfMxq9f71t",
        "colab_type": "code",
        "outputId": "b5ef9085-1df5-4aa4-d5c2-820a9695498f",
        "colab": {
          "base_uri": "https://localhost:8080/",
          "height": 34
        }
      },
      "cell_type": "code",
      "source": [
        "dict1[\"Matthias\"] = \"MSB\" # Create a key called \"Matthias\" and make \"MSB\" its value\n",
        "dict1[\"Andreas\"] = \"MSB\"\n",
        "dict1"
      ],
      "execution_count": 35,
      "outputs": [
        {
          "output_type": "execute_result",
          "data": {
            "text/plain": [
              "{'Andreas': 'MSB', 'Matthias': 'MSB'}"
            ]
          },
          "metadata": {
            "tags": []
          },
          "execution_count": 35
        }
      ]
    },
    {
      "metadata": {
        "id": "j8iZ7Gl5f71y",
        "colab_type": "text"
      },
      "cell_type": "markdown",
      "source": [
        "As you can see above, one important thing to be careful with dictionary is the fact that **key-value bindings are not kept in the order that you define them**. "
      ]
    },
    {
      "metadata": {
        "id": "t5esgu3tf72A",
        "colab_type": "text"
      },
      "cell_type": "markdown",
      "source": [
        "## Control flow\n",
        "\n",
        "Main advantage of computer programming is to outsource the repetitive tasks. In order to carry out repetitive tasks, we use instructions that allow us to repeat some lines of code. Thus, we **control the progression of the program** and get the necessary tasks done. "
      ]
    },
    {
      "metadata": {
        "id": "wgRMUZio1f-4",
        "colab_type": "text"
      },
      "cell_type": "markdown",
      "source": [
        "### `for` loop\n",
        "\n",
        "`for` loop allows us to repeat the tasks within a defined number of times. "
      ]
    },
    {
      "metadata": {
        "id": "2wI26YKYf72B",
        "colab_type": "code",
        "outputId": "e94e64eb-ce84-4298-96b1-3fe36bbb54cc",
        "colab": {
          "base_uri": "https://localhost:8080/",
          "height": 104
        }
      },
      "cell_type": "code",
      "source": [
        "for i in range(1,6): # Range is a function that creates a list of integers (from 1 to 5 in here).\n",
        "  print(i)         # i is an arbitrary name for the changing value upon iteration"
      ],
      "execution_count": 36,
      "outputs": [
        {
          "output_type": "stream",
          "text": [
            "1\n",
            "2\n",
            "3\n",
            "4\n",
            "5\n"
          ],
          "name": "stdout"
        }
      ]
    },
    {
      "metadata": {
        "id": "RvQbUd7Sf72D",
        "colab_type": "text"
      },
      "cell_type": "markdown",
      "source": [
        "We need to draw the line between the codes that are going to be run repetitively and the code that is going to run only one time. In order to make this distinction, we use **indentation** in Python. This is why the line under `print(i)` begins with an indentation. Let us make it clear with another example:\n"
      ]
    },
    {
      "metadata": {
        "id": "NwXONcFj3NbT",
        "colab_type": "code",
        "outputId": "a8f48f98-1783-4d1a-940a-27741e07a735",
        "colab": {
          "base_uri": "https://localhost:8080/",
          "height": 121
        }
      },
      "cell_type": "code",
      "source": [
        "for i in range(2):\n",
        "  print(\"Da\")\n",
        "for i in range(3):\n",
        "  print(\"Bum\")\n",
        "print(\"Another one bites the dust\")"
      ],
      "execution_count": 37,
      "outputs": [
        {
          "output_type": "stream",
          "text": [
            "Da\n",
            "Da\n",
            "Bum\n",
            "Bum\n",
            "Bum\n",
            "Another one bites the dust\n"
          ],
          "name": "stdout"
        }
      ]
    },
    {
      "metadata": {
        "id": "RGtcCtaP3tsQ",
        "colab_type": "text"
      },
      "cell_type": "markdown",
      "source": [
        "As we see in the example above, last line of the text writes only once because last line of the code is not indented. Therefore it is not in the scope of `for` loop to be repeated. \n",
        "\n",
        "Therefore, **indentation is very important in Python and often errors are caused by wrong use of indentation. **"
      ]
    },
    {
      "metadata": {
        "id": "x-OO7uCsf72L",
        "colab_type": "text"
      },
      "cell_type": "markdown",
      "source": [
        "If you want to create a list from the iterated values you can also use something called **list comprehension**. It is basically a for loop that is defined in a list."
      ]
    },
    {
      "metadata": {
        "id": "tG0KSNOKf72L",
        "colab_type": "code",
        "colab": {}
      },
      "cell_type": "code",
      "source": [
        "tuple_list1 = [i.upper() for i in tuple1] # Capitalize letters of each element in the tuple1 and put them in a list\n",
        "tuple_list2 = [i[0:2] for i in tuple1] # Take first two characters of each element in tuple1 and put them in a list"
      ],
      "execution_count": 0,
      "outputs": []
    },
    {
      "metadata": {
        "id": "dHd6oN7hf72P",
        "colab_type": "code",
        "outputId": "a4f214d8-a272-4f63-dd95-112dd4629568",
        "colab": {
          "base_uri": "https://localhost:8080/",
          "height": 34
        }
      },
      "cell_type": "code",
      "source": [
        "tuple_list1"
      ],
      "execution_count": 39,
      "outputs": [
        {
          "output_type": "execute_result",
          "data": {
            "text/plain": [
              "['THIS', 'IS', 'A', 'TUPLE']"
            ]
          },
          "metadata": {
            "tags": []
          },
          "execution_count": 39
        }
      ]
    },
    {
      "metadata": {
        "id": "SqFDKfZff72Q",
        "colab_type": "code",
        "outputId": "6ccd0090-6fe0-4637-aa0d-61055e304b2d",
        "colab": {
          "base_uri": "https://localhost:8080/",
          "height": 34
        }
      },
      "cell_type": "code",
      "source": [
        "tuple_list2"
      ],
      "execution_count": 40,
      "outputs": [
        {
          "output_type": "execute_result",
          "data": {
            "text/plain": [
              "['th', 'is', 'a', 'tu']"
            ]
          },
          "metadata": {
            "tags": []
          },
          "execution_count": 40
        }
      ]
    },
    {
      "metadata": {
        "id": "Im2sLmfcf72S",
        "colab_type": "code",
        "outputId": "248df3f9-89f1-458a-be5e-f44758977957",
        "colab": {
          "base_uri": "https://localhost:8080/",
          "height": 34
        }
      },
      "cell_type": "code",
      "source": [
        "squares = [i**2 for i in range(-5,6)] # Take the squares of the numbers from -5 to 4 and keep them in a list\n",
        "squares"
      ],
      "execution_count": 41,
      "outputs": [
        {
          "output_type": "execute_result",
          "data": {
            "text/plain": [
              "[25, 16, 9, 4, 1, 0, 1, 4, 9, 16, 25]"
            ]
          },
          "metadata": {
            "tags": []
          },
          "execution_count": 41
        }
      ]
    },
    {
      "metadata": {
        "id": "Evwz7R3i5zQN",
        "colab_type": "text"
      },
      "cell_type": "markdown",
      "source": [
        "### `while` loop\n",
        "\n",
        "`while` loop allows for another type of flow of control where you do not need to explicitly set the number of times that code is going to iterate. In this case, we simply set a condition and we want the code to run until this specific condition is met. \n",
        "\n",
        "We have bunch of numbers that are defined in a list below. Let us try to find the first number that is below 0.02 in this list of numbers."
      ]
    },
    {
      "metadata": {
        "id": "VYeiuFWz7wJy",
        "colab_type": "code",
        "outputId": "79f8ef37-d58a-4051-8b66-3f362abf578a",
        "colab": {
          "base_uri": "https://localhost:8080/",
          "height": 69
        }
      },
      "cell_type": "code",
      "source": [
        "data = [0.28298486, 0.18067781, 0.32572769, 0.44280147, 0.03352458,\n",
        "       0.7805121 , 0.21405784, 0.57106005, 0.95434392, 0.8609314 ,\n",
        "       0.81165836, 0.54759082, 0.94250277, 0.74382209, 0.11598458,\n",
        "       0.60183992, 0.60872557, 0.92324317, 0.53444154, 0.15590181,\n",
        "       0.08954717, 0.01616445, 0.80363048, 0.23918459, 0.13884475,\n",
        "       0.96681165, 0.35998196, 0.75188695, 0.12545866, 0.61349904,\n",
        "       0.97776502, 0.55933591, 0.55126962, 0.4543795 , 0.93963609,\n",
        "       0.71758681, 0.06876675, 0.42008658, 0.06885745, 0.34587605,\n",
        "       0.56798061, 0.08677846, 0.94064413, 0.05473897, 0.70897329,\n",
        "       0.94007164, 0.92433487, 0.78702259, 0.96236832, 0.64708012,\n",
        "       0.01391835, 0.40234809, 0.59158976, 0.42890466, 0.41896186,\n",
        "       0.20245804, 0.29939961, 0.31413492, 0.74932118, 0.06079632,\n",
        "       0.28893148, 0.1784896 , 0.36105014, 0.76111468, 0.01471541,\n",
        "       0.74230656, 0.67245809, 0.32550164, 0.22351367, 0.73866749,\n",
        "       0.30408488, 0.5070438 , 0.3138756 , 0.60946762, 0.11696703,\n",
        "       0.41638526, 0.55288289, 0.98533532, 0.65007071, 0.33734402,\n",
        "       0.17006566, 0.50629363, 0.52695524, 0.02454514, 0.81009722,\n",
        "       0.83896229, 0.56991108, 0.56631264, 0.81096758, 0.10758824,\n",
        "       0.33414208, 0.43419095, 0.04696024, 0.8924531 , 0.88096382,\n",
        "       0.07888744, 0.84144423, 0.20973636, 0.13975401, 0.20966378]\n",
        "\n",
        "n = 0\n",
        "\n",
        "while data[n] > 0.02:\n",
        "  n += 1 \n",
        "  # 'n += 1' means add 1 to value of n\n",
        "  \n",
        "print(\"We found a value that is below 0.02!\")\n",
        "print(\"It is\", data[n])\n",
        "print(\"We iterated\", n, \"times to find it.\")\n"
      ],
      "execution_count": 42,
      "outputs": [
        {
          "output_type": "stream",
          "text": [
            "We found a value that is below 0.02!\n",
            "It is 0.01616445\n",
            "We iterated 21 times to find it.\n"
          ],
          "name": "stdout"
        }
      ]
    },
    {
      "metadata": {
        "id": "7qItRDPxCSsJ",
        "colab_type": "text"
      },
      "cell_type": "markdown",
      "source": [
        "### Conditional statements (`if, elif, else`)\n",
        "\n",
        "We use logical conditions in other to change the flow of the program and make decisions. "
      ]
    },
    {
      "metadata": {
        "id": "OXz8hWdbf72X",
        "colab_type": "text"
      },
      "cell_type": "markdown",
      "source": [
        "It is possible to build conditional statements using *if*, *not*, *and*, *or* keywords and boolean values. "
      ]
    },
    {
      "metadata": {
        "id": "Ql5I1nz7f72X",
        "colab_type": "code",
        "outputId": "4b078836-e4a8-4bfc-b3c5-583124c929d0",
        "colab": {
          "base_uri": "https://localhost:8080/",
          "height": 52
        }
      },
      "cell_type": "code",
      "source": [
        "for word in tuple1:\n",
        "    if word.startswith(\"t\"): # Print the string if it starts with letter \"t\"\n",
        "        print(word)"
      ],
      "execution_count": 43,
      "outputs": [
        {
          "output_type": "stream",
          "text": [
            "this\n",
            "tuple\n"
          ],
          "name": "stdout"
        }
      ]
    },
    {
      "metadata": {
        "id": "lolUkcsof72a",
        "colab_type": "code",
        "outputId": "2d83e93d-4c89-43bb-f477-7134ae4b0c19",
        "colab": {
          "base_uri": "https://localhost:8080/",
          "height": 34
        }
      },
      "cell_type": "code",
      "source": [
        "for word in tuple1:\n",
        "    if word.startswith(\"t\") and word.endswith(\"s\"):\n",
        "        print(word)"
      ],
      "execution_count": 44,
      "outputs": [
        {
          "output_type": "stream",
          "text": [
            "this\n"
          ],
          "name": "stdout"
        }
      ]
    },
    {
      "metadata": {
        "id": "05Ugja6ef72d",
        "colab_type": "code",
        "outputId": "c63badb6-d819-4938-b87a-234db269f914",
        "colab": {
          "base_uri": "https://localhost:8080/",
          "height": 52
        }
      },
      "cell_type": "code",
      "source": [
        "for word in tuple1:\n",
        "    if not word.startswith(\"t\"):\n",
        "        print(word)"
      ],
      "execution_count": 45,
      "outputs": [
        {
          "output_type": "stream",
          "text": [
            "is\n",
            "a\n"
          ],
          "name": "stdout"
        }
      ]
    },
    {
      "metadata": {
        "id": "Xve1ENWNf72i",
        "colab_type": "text"
      },
      "cell_type": "markdown",
      "source": [
        "## Functions\n",
        "\n",
        "Functions are entities that we use in order to carry out a structured, routine task. For example, there is a certain task that you want to be carried out. It requires a long piece of code. Instead of copying and pasting your code over and over again, you can define a function and use this function.\n",
        "\n",
        "In order to create a function, we use the keyword **`def`**. For example, following function takes the square root of a number:"
      ]
    },
    {
      "metadata": {
        "id": "QJSvr48NkbON",
        "colab_type": "code",
        "outputId": "3f9f2ea6-a445-4445-c096-35ad4d5b8000",
        "colab": {
          "base_uri": "https://localhost:8080/",
          "height": 34
        }
      },
      "cell_type": "code",
      "source": [
        "def square_root(x):\n",
        "  \n",
        "  return x**(0.5)\n",
        "\n",
        "# Take the square root of 4\n",
        "\n",
        "square_root(4)"
      ],
      "execution_count": 46,
      "outputs": [
        {
          "output_type": "execute_result",
          "data": {
            "text/plain": [
              "2.0"
            ]
          },
          "metadata": {
            "tags": []
          },
          "execution_count": 46
        }
      ]
    },
    {
      "metadata": {
        "id": "3mITCbhllChk",
        "colab_type": "text"
      },
      "cell_type": "markdown",
      "source": [
        "Here `x` is the **input argument** of the function. A function can take multiple arguments, it also be without any arguments. \n",
        "\n",
        "We define the scope of the function by indentation. Everything that is indented after function definition is included in the function.\n",
        "\n",
        "Another example, this function takes a list of numbers and checks the list against another number. If the number in the list is less than the other number, the function filters it out of the list. "
      ]
    },
    {
      "metadata": {
        "id": "OHs06vQNlBSO",
        "colab_type": "code",
        "outputId": "932ca8fa-e9bc-4dbd-e76e-6f41131eb6ad",
        "colab": {
          "base_uri": "https://localhost:8080/",
          "height": 34
        }
      },
      "cell_type": "code",
      "source": [
        "def collect_bigger_than(check_number,number_list):\n",
        "  \n",
        "  for number in number_list[:]: # number_list[:] creates a copy of the actual \n",
        "    if number < check_number:   # list that we give as input. For convenience,  \n",
        "      number_list.remove(number)# we do not want to modify the input list. \n",
        "  return number_list\n",
        "\n",
        "test_list = [1,45,63,2,24,5,432,10,8]\n",
        "filtered_list = collect_bigger_than(11,test_list)\n",
        "filtered_list "
      ],
      "execution_count": 47,
      "outputs": [
        {
          "output_type": "execute_result",
          "data": {
            "text/plain": [
              "[45, 63, 24, 432]"
            ]
          },
          "metadata": {
            "tags": []
          },
          "execution_count": 47
        }
      ]
    },
    {
      "metadata": {
        "id": "CzhRpl1xqaFz",
        "colab_type": "text"
      },
      "cell_type": "markdown",
      "source": [
        "## Modules \n",
        "\n",
        "In most cases, for example when we want to do statistical or mathematical operations, we can use the code already developed by other people. This code is kept in structures that we call **modules**. In order to use the code in the modules, we need to call them first. We call the modules with **`import`** keyword, preferably in the beginning of the code.\n",
        "\n",
        "For our purpose, there are three commonly used modules (or libraries). These are [numpy](https://numpy.org), [scipy](https://scipy.org) and [matplotlib](https://matplotlib.org/). numpy and scipy are the libraries contain functions we can use for mathematical and statistical analysis. We use matplotlib in order to plot and make graphics from data. \n"
      ]
    },
    {
      "metadata": {
        "id": "P_ZgDu4nyNLn",
        "colab_type": "text"
      },
      "cell_type": "markdown",
      "source": [
        "### Numpy\n",
        "\n",
        "numpy contains the data structures that are useful for doing matrix and vector operations. In short, when we have data with a lot of numbers and we want to process this data, we can use the data structures that are available in numpy.  "
      ]
    },
    {
      "metadata": {
        "id": "b_Q9qySty_FE",
        "colab_type": "text"
      },
      "cell_type": "markdown",
      "source": [
        "#### numpy.ndarray\n",
        "\n",
        "`ndarray` (which stands for N-dimensional array) is the data structure which we can use to keep n-dimensional data. We can have one column or one row of numbers, which is a vector. We can also have multiple columns or rows of numbers, which is a matrix. \n",
        "\n",
        "They are similar to list, however the difference is that you can do mathematical operations using `ndarray`s but not using lists."
      ]
    },
    {
      "metadata": {
        "id": "u10vJbfVzDo_",
        "colab_type": "code",
        "colab": {}
      },
      "cell_type": "code",
      "source": [
        "# Import numpy module and call it \"np\"\n",
        "# so that we do not have to write \"numpy\" \n",
        "# every time we use a function from there.\n",
        "\n",
        "import numpy as np\n",
        "\n",
        "# We can define ndarrays using a list of numbers\n",
        "\n",
        "a = np.array([1,2,3,4,5,6,7])\n",
        "b = np.array([[0.126152, 0.68474827, 0.14820641, 0.51406538, 0.3835323, \n",
        "               0.20486908, 0.27014519]])\n",
        "\n",
        "# An example 10-by-10 matrix \n",
        "\n",
        "c = np.array([[1, 0, 0, 0, 0, 0, 0, 0, 0, 1],\n",
        "              [0, 1, 0, 0, 0, 0, 0, 0, 1, 0],\n",
        "              [0, 0, 1, 0, 0, 0, 0, 1, 0, 0],\n",
        "              [0, 0, 0, 1, 0, 0, 1, 0, 0, 0],\n",
        "              [0, 0, 0, 0, 1, 1, 0, 0, 0, 0],\n",
        "              [0, 0, 0, 0, 1, 1, 0, 0, 0, 0],\n",
        "              [0, 0, 0, 1, 0, 0, 1, 0, 0, 0],\n",
        "              [0, 0, 1, 0, 0, 0, 0, 1, 0, 0],\n",
        "              [0, 1, 0, 0, 0, 0, 0, 0, 1, 0],\n",
        "              [1, 0, 0, 0, 0, 0, 0, 0, 0, 1]])\n"
      ],
      "execution_count": 0,
      "outputs": []
    },
    {
      "metadata": {
        "id": "M8zqufLoZmAP",
        "colab_type": "text"
      },
      "cell_type": "markdown",
      "source": [
        "Some examples for mathematical operations:"
      ]
    },
    {
      "metadata": {
        "id": "S4vibqUhzIBi",
        "colab_type": "code",
        "outputId": "764d96fa-4047-43f4-ddb5-6d2a19f90d25",
        "colab": {
          "base_uri": "https://localhost:8080/",
          "height": 34
        }
      },
      "cell_type": "code",
      "source": [
        "a/2"
      ],
      "execution_count": 49,
      "outputs": [
        {
          "output_type": "execute_result",
          "data": {
            "text/plain": [
              "array([0.5, 1. , 1.5, 2. , 2.5, 3. , 3.5])"
            ]
          },
          "metadata": {
            "tags": []
          },
          "execution_count": 49
        }
      ]
    },
    {
      "metadata": {
        "id": "rTrR428nZ1mF",
        "colab_type": "code",
        "outputId": "bfb2451e-001c-48ea-9b4f-980f3c7b9bc5",
        "colab": {
          "base_uri": "https://localhost:8080/",
          "height": 34
        }
      },
      "cell_type": "code",
      "source": [
        "a + 10"
      ],
      "execution_count": 50,
      "outputs": [
        {
          "output_type": "execute_result",
          "data": {
            "text/plain": [
              "array([11, 12, 13, 14, 15, 16, 17])"
            ]
          },
          "metadata": {
            "tags": []
          },
          "execution_count": 50
        }
      ]
    },
    {
      "metadata": {
        "id": "yVY8KSd-Z5v2",
        "colab_type": "code",
        "outputId": "93fcb64d-e200-450c-afdd-bf5641911f3d",
        "colab": {
          "base_uri": "https://localhost:8080/",
          "height": 34
        }
      },
      "cell_type": "code",
      "source": [
        "a**2"
      ],
      "execution_count": 51,
      "outputs": [
        {
          "output_type": "execute_result",
          "data": {
            "text/plain": [
              "array([ 1,  4,  9, 16, 25, 36, 49])"
            ]
          },
          "metadata": {
            "tags": []
          },
          "execution_count": 51
        }
      ]
    },
    {
      "metadata": {
        "id": "eKFSk6d0bj1U",
        "colab_type": "code",
        "outputId": "7869156a-553a-4031-8ef7-d1efc1ce9bbb",
        "colab": {
          "base_uri": "https://localhost:8080/",
          "height": 52
        }
      },
      "cell_type": "code",
      "source": [
        "a*b # Sizes of the vectors should be equal\n",
        "    # to be multiplied"
      ],
      "execution_count": 52,
      "outputs": [
        {
          "output_type": "execute_result",
          "data": {
            "text/plain": [
              "array([[0.126152  , 1.36949654, 0.44461923, 2.05626152, 1.9176615 ,\n",
              "        1.22921448, 1.89101633]])"
            ]
          },
          "metadata": {
            "tags": []
          },
          "execution_count": 52
        }
      ]
    },
    {
      "metadata": {
        "id": "eqcJnWuFu1p_",
        "colab_type": "text"
      },
      "cell_type": "markdown",
      "source": [
        "## Matplotlib\n",
        "\n",
        "matplotlib library helps us to show the data on a plot. It contains multiple functions to draw different types of plots and edit them. We will generate some random data and plot it. \n",
        "\n",
        "You can find many more examples and explanations of functions and arguments [in this webpage](https://matplotlib.org/api/pyplot_api.html) of Matplotlib."
      ]
    },
    {
      "metadata": {
        "id": "DZM-YG-JxFG8",
        "colab_type": "code",
        "colab": {
          "base_uri": "https://localhost:8080/",
          "height": 815
        },
        "outputId": "0645c3ee-70b3-4a17-f754-a9e62aec8f24"
      },
      "cell_type": "code",
      "source": [
        "import matplotlib.pyplot as plt \n",
        "\n",
        "# Generate 100 random data points\n",
        "\n",
        "data = np.random.rand(100)\n",
        "\n",
        "# Time points from 1 to 100 (until 101, 101 not included)\n",
        "\n",
        "t = np.arange(1,101)\n",
        "\n",
        "# Line plot \n",
        "\n",
        "plt.figure()       # Create the empty plot\n",
        "plt.plot(t,data)   # Then draw it \n",
        "\n",
        "# Give labels to horizontal and vertical axes \n",
        "\n",
        "plt.xlabel('Time')\n",
        "plt.ylabel('Data')\n",
        "\n",
        "# Scatter plot \n",
        "\n",
        "plt.figure()\n",
        "plt.scatter(t,data,color='red')\n",
        "plt.xlabel('Time')\n",
        "plt.ylabel('Data');\n",
        "\n",
        "# Together\n",
        "\n",
        "plt.figure()\n",
        "plt.plot(t,data,color='black',linestyle='--',zorder=0)\n",
        "plt.scatter(t,data,color='red')\n",
        "plt.xlabel('Time')\n",
        "plt.ylabel('Data');"
      ],
      "execution_count": 68,
      "outputs": [
        {
          "output_type": "display_data",
          "data": {
            "image/png": "[encoded data removed]",
            "text/plain": [
              "<Figure size 432x288 with 1 Axes>"
            ]
          },
          "metadata": {
            "tags": []
          }
        },
        {
          "output_type": "display_data",
          "data": {
            "image/png": "[encoded data removed]",
            "text/plain": [
              "<Figure size 432x288 with 1 Axes>"
            ]
          },
          "metadata": {
            "tags": []
          }
        },
        {
          "output_type": "display_data",
          "data": {
            "image/png": "[encoded data removed]",
            "text/plain": [
              "<Figure size 432x288 with 1 Axes>"
            ]
          },
          "metadata": {
            "tags": []
          }
        }
      ]
    },
    {
      "metadata": {
        "id": "VZWISNkOy-q-",
        "colab_type": "text"
      },
      "cell_type": "markdown",
      "source": [
        "# Exercies\n"
      ]
    },
    {
      "metadata": {
        "id": "tulJvbhdtM79",
        "colab_type": "text"
      },
      "cell_type": "markdown",
      "source": [
        "\n",
        "## 1. Glucose phosphotransferase system \n",
        "\n",
        "<img src=\"http://www.life.illinois.edu/crofts/bioph354/bergman/kanal/transp/pts/ptsa.gif\">\n",
        "\n",
        "1. Using the reaction ids from the given dictionary called **`metabolites`**, generate the following reaction string: \n",
        "\n",
        "     **`glc__D + pep --> g6p + pyr`**\n",
        "\n",
        "2. Key **`S`** in this dictionary corresponds to the value of the stoichiometric coefficient of the metabolite. Find the molar masses of these metabolites (you can use [Wolframalpha](https://www.wolframalpha.com) to find them) and calculate the mass difference between the two sides of the reaction. Is the mass difference close to zero?\n",
        "\n",
        "3. Assuming 100% conversion, how many grams of pyruvate can this reaction produce from 100 mg of glucose?"
      ]
    },
    {
      "metadata": {
        "id": "ENqELJcHpUpW",
        "colab_type": "code",
        "colab": {}
      },
      "cell_type": "code",
      "source": [
        "metabolites = {'D-glucose':{'id':'glc__D','S': -1},\n",
        "               'Phosphenolpyruvate': {'id':'pep','S': -1},\n",
        "               'D-Glucose 6-phosphate':{'id':'g6p','S': 1},\n",
        "               'Pyruvate':{'id':'pyr','S':1}}\n",
        "               "
      ],
      "execution_count": 0,
      "outputs": []
    },
    {
      "metadata": {
        "id": "Xw72j2Vpupie",
        "colab_type": "code",
        "colab": {}
      },
      "cell_type": "code",
      "source": [
        "# Your answer here"
      ],
      "execution_count": 0,
      "outputs": []
    },
    {
      "metadata": {
        "id": "7c6xa5HxuiWr",
        "colab_type": "text"
      },
      "cell_type": "markdown",
      "source": [
        "## 2. Medium left on the bench\n",
        "<center><img src=\"https://ya-webdesign.com/images/vector-laboratory-flask-6.png\" width=20%></center>\n",
        "1. You need to prepare a 100 mL, 0.01 M glucose solution. Calculate how many grams of glucose you need. \n",
        "2. You prepared your medium and you left it open on your bench for 8 hours. Your lab fellows told you that water evaporates from your medium with a speed of 0.025\\*T (mL/h) depending on the temperature of the lab (T is temperature in Celcius). Starting from the moment you prepared your sample, temperature profile of the lab for the next 24 hours is provided below. What is the concentration of the glucose in the medium after 8 hours? Calculate it in molar and g/L. (Tip: You can write a function that converts molar to g/L for glucose).\n",
        "3. What would be the glucose concentration in molar after 24 hours?\n",
        "4. After 24 hours, you realized that you cannot use the medium for your experiment because it is not 0.01 M anymore. You have another experiment where you need 0.05 M glucose medium. How many grams of glucose do you need to add in order to get 0.05 M glucose medium?\n",
        "5. Write a function that takes hours as an input argument and returns the glucose concentration of the medium at the given hour in g/L."
      ]
    },
    {
      "metadata": {
        "id": "RjE6oqP3qigx",
        "colab_type": "code",
        "colab": {}
      },
      "cell_type": "code",
      "source": [
        "# Your answer here \n",
        "\n",
        "import numpy as np \n",
        "\n",
        "# Run this if you accidentally change the temperatures\n",
        "# np.random.seed(4)\n",
        "# lab_temperature = np.round((20+((np.random.rand(24)-0.5))),2)\n",
        "\n",
        "lab_temperature = np.array([20.47, 20.05, 20.47, 20.21, 20.2 , 19.72, 20.48, \n",
        "                            19.51, 19.75, 19.93, 20.28, 19.7 , 20.36, 20.48, \n",
        "                            19.66, 20.1 , 19.51, 19.89, 19.54, 20.46, 19.94, \n",
        "                            20.45, 20.29, 20.37])"
      ],
      "execution_count": 0,
      "outputs": []
    }
  ]
}