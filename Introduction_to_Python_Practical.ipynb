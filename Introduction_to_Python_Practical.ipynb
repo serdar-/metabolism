{
  "nbformat": 4,
  "nbformat_minor": 0,
  "metadata": {
    "colab": {
      "name": "Introduction to Python Practical.ipynb",
      "version": "0.3.2",
      "provenance": [],
      "collapsed_sections": [],
      "toc_visible": true,
      "include_colab_link": true
    },
    "kernelspec": {
      "name": "python3",
      "display_name": "Python 3"
    }
  },
  "cells": [
    {
      "cell_type": "markdown",
      "metadata": {
        "id": "view-in-github",
        "colab_type": "text"
      },
      "source": [
        "<a href=\"https://colab.research.google.com/github/serdar-/metabolism/blob/master/Introduction_to_Python_Practical.ipynb\" target=\"_parent\"><img src=\"https://colab.research.google.com/assets/colab-badge.svg\" alt=\"Open In Colab\"/></a>"
      ]
    },
    {
      "metadata": {
        "id": "4fxkdqOdsMl5",
        "colab_type": "text"
      },
      "cell_type": "markdown",
      "source": [
        "# Introduction to Python \n",
        "\n",
        "**Metabolism**\n",
        "\n",
        "_Serdar Ozsezen_\n",
        "\n",
        "_28th November 2018_\n",
        "\n"
      ]
    },
    {
      "metadata": {
        "id": "ghAxf4c4xDtC",
        "colab_type": "text"
      },
      "cell_type": "markdown",
      "source": [
        "## Programming at a glance\n",
        "\n",
        "- Computers are complicated calculators. However, just like calculators they do one simple task, which is computation. In order to perform computations, we give certain instructions to the computer. These set of instructions are called **code** or **programs**. \n",
        "\n",
        "- You can think of the program as DNA. It gets transcribed into mRNA (machine language) by RNA polymerase (compiler or interpreter). Then mRNA gets processed in the ribosome, which is the **CPU (central processing unit)** of the computer. The output of the program is the protein. DNA, mRNA and proteins are all kept in the cytosol, which is the **memory** of the computer. \n",
        "\n",
        "- We use a specific languages to give instructions to the computer. These languages are called **programming languages**. Programming languages can be either close to a language that computers can easily understand (low-level languages) or humans can understand (high-level languages). **Python** is a popular high-level programming language, widely used by scientists and engineers. "
      ]
    },
    {
      "metadata": {
        "id": "ig2f5M9kTee4",
        "colab_type": "text"
      },
      "cell_type": "markdown",
      "source": [
        "## Jupyter notebook \n",
        "\n",
        "- What you are currently running in your browser is called a **Jupyter notebook**. \n",
        "- Jupyter notebook provides an environment for you to write structured text (similar to Microsoft Word)  and at the same time run your code and save your analysis results. \n",
        "- All content in Jupyter notebook are divided in containers that are called **cells**. \n",
        "- In order to render the text inside a cell or run the code, you need to press **Shift + Enter** or push the play button located at the left top corner of the cell. "
      ]
    },
    {
      "metadata": {
        "id": "DZDQ0MUkQf24",
        "colab_type": "text"
      },
      "cell_type": "markdown",
      "source": [
        "## Variable definitions and types\n"
      ]
    },
    {
      "metadata": {
        "id": "vMEPYmq0VwyD",
        "colab_type": "text"
      },
      "cell_type": "markdown",
      "source": [
        "### Definition of variables\n",
        "\n",
        "- Data we are going to process could be in form of text or numbers.\n",
        "- Data is kept in entities that are called **variables**. \n",
        "- In order to define variables, first we give a name to the variable. This name should always start with a letter or underscore, you can also use numbers within the name. However, the first character of the name of the variable cannot start with a number. Ideally name of the variable should be descriptive of the data it represents. \n",
        "- You cannot have space inside a variable name. \n",
        "- As a convention, when variable names are made out of multiple words, the words are separated with underscore. \n",
        "- Some example variable names are `R`, `vapor_pressure`, `reaction_1`, `S_matrix`.\n",
        "- To define the variable we use **equals sign**, we will see the examples of it in the following chapters."
      ]
    },
    {
      "metadata": {
        "id": "bjTKR6sYTFc6",
        "colab_type": "text"
      },
      "cell_type": "markdown",
      "source": [
        "### Strings\n",
        "If the data is represented as text, then we call this variable **string**. Strings are text that are written in quotes."
      ]
    },
    {
      "metadata": {
        "id": "O48CkXibR_K4",
        "colab_type": "code",
        "colab": {}
      },
      "cell_type": "code",
      "source": [
        "var1 = \"I am a string\"\n",
        "var2 = 'I AM A STRING '\n",
        "var3 = \"\"\"I am a\n",
        "multiline \n",
        "string\n",
        "\"\"\""
      ],
      "execution_count": 0,
      "outputs": []
    },
    {
      "metadata": {
        "id": "GPjs0DLHTBCg",
        "colab_type": "text"
      },
      "cell_type": "markdown",
      "source": [
        "There are numerous ways to manipulate strings. There are some examples below:"
      ]
    },
    {
      "metadata": {
        "id": "OQ3XSWTsTGUA",
        "colab_type": "code",
        "outputId": "13d7f9a0-4b1b-42d6-a15f-2c1dfce0e2ea",
        "colab": {
          "base_uri": "https://localhost:8080/",
          "height": 34
        }
      },
      "cell_type": "code",
      "source": [
        "var2 + var1 # Connect two different text into one"
      ],
      "execution_count": 0,
      "outputs": [
        {
          "output_type": "execute_result",
          "data": {
            "text/plain": [
              "'I AM A STRING I am a string'"
            ]
          },
          "metadata": {
            "tags": []
          },
          "execution_count": 3
        }
      ]
    },
    {
      "metadata": {
        "id": "YUDc-ETEAQKl",
        "colab_type": "text"
      },
      "cell_type": "markdown",
      "source": [
        "You have probably realized that once a text starts with # (pound), it is ignored by the interpreter. Which means that you can actually write comments inside your code by putting a pound sign in front of your comment text."
      ]
    },
    {
      "metadata": {
        "id": "qea40M2LTQII",
        "colab_type": "code",
        "outputId": "51a47579-baa2-4aa4-f1ac-747062b46fb5",
        "colab": {
          "base_uri": "https://localhost:8080/",
          "height": 34
        }
      },
      "cell_type": "code",
      "source": [
        "var1[0:4] # First four letters of the text "
      ],
      "execution_count": 0,
      "outputs": [
        {
          "output_type": "execute_result",
          "data": {
            "text/plain": [
              "'I am'"
            ]
          },
          "metadata": {
            "tags": []
          },
          "execution_count": 4
        }
      ]
    },
    {
      "metadata": {
        "id": "wGZEIKy3AzzD",
        "colab_type": "code",
        "outputId": "5b76f32a-adb8-4e69-d64d-b2da8e848400",
        "colab": {
          "base_uri": "https://localhost:8080/",
          "height": 34
        }
      },
      "cell_type": "code",
      "source": [
        "var1[-1] # Last letter of the text"
      ],
      "execution_count": 0,
      "outputs": [
        {
          "output_type": "execute_result",
          "data": {
            "text/plain": [
              "'g'"
            ]
          },
          "metadata": {
            "tags": []
          },
          "execution_count": 5
        }
      ]
    },
    {
      "metadata": {
        "id": "pD2ZXLt_QNnl",
        "colab_type": "code",
        "outputId": "d3126453-ea36-42c4-c161-80d9de6c368c",
        "colab": {
          "base_uri": "https://localhost:8080/",
          "height": 34
        }
      },
      "cell_type": "code",
      "source": [
        "var3[3] # Fourth character of the text"
      ],
      "execution_count": 0,
      "outputs": [
        {
          "output_type": "execute_result",
          "data": {
            "text/plain": [
              "'m'"
            ]
          },
          "metadata": {
            "tags": []
          },
          "execution_count": 6
        }
      ]
    },
    {
      "metadata": {
        "id": "tVHfxeEEQZTO",
        "colab_type": "text"
      },
      "cell_type": "markdown",
      "source": [
        "As you can see from the examples above, indexing of the letters start from **0** instead of 1. Thus, if you want to access to the first letter in the string you need to ask the 0th element. This is also the case for other sequence-like data that we are going to see later on. "
      ]
    },
    {
      "metadata": {
        "id": "xsBTwaDzf7z3",
        "colab_type": "text"
      },
      "cell_type": "markdown",
      "source": [
        "### Numbers\n",
        "\n",
        "In general, we use two types of numbers to make calculations in Python. These are **floating point** (`float`) or **integer** (`int`)."
      ]
    },
    {
      "metadata": {
        "id": "3hWGd0exf7z4",
        "colab_type": "code",
        "colab": {}
      },
      "cell_type": "code",
      "source": [
        "num1 = 5\n",
        "num2 = 5.\n",
        "num3 = 6.789"
      ],
      "execution_count": 0,
      "outputs": []
    },
    {
      "metadata": {
        "id": "Yq74Z1q9f7z_",
        "colab_type": "text"
      },
      "cell_type": "markdown",
      "source": [
        "In order to learn what type of number you have, you can use the function _type_. This function will tell you what type of variable that you have and you can use it for other variables as well."
      ]
    },
    {
      "metadata": {
        "id": "4FRdSkeUf70A",
        "colab_type": "code",
        "outputId": "08881d3c-c423-499f-9fbb-5872ca23839c",
        "colab": {
          "base_uri": "https://localhost:8080/",
          "height": 34
        }
      },
      "cell_type": "code",
      "source": [
        "type(num1)"
      ],
      "execution_count": 0,
      "outputs": [
        {
          "output_type": "execute_result",
          "data": {
            "text/plain": [
              "int"
            ]
          },
          "metadata": {
            "tags": []
          },
          "execution_count": 8
        }
      ]
    },
    {
      "metadata": {
        "id": "kDeF_CAvf70C",
        "colab_type": "code",
        "outputId": "6c42ae08-752c-455e-a8d8-1bd505d2d783",
        "colab": {
          "base_uri": "https://localhost:8080/",
          "height": 34
        }
      },
      "cell_type": "code",
      "source": [
        "type(num2)"
      ],
      "execution_count": 0,
      "outputs": [
        {
          "output_type": "execute_result",
          "data": {
            "text/plain": [
              "float"
            ]
          },
          "metadata": {
            "tags": []
          },
          "execution_count": 9
        }
      ]
    },
    {
      "metadata": {
        "id": "wHCYpevif70H",
        "colab_type": "code",
        "outputId": "2acf1bfb-7fb7-4afb-ca98-e03464ab8332",
        "colab": {
          "base_uri": "https://localhost:8080/",
          "height": 34
        }
      },
      "cell_type": "code",
      "source": [
        "new_number = num1 + num2 # Adding an int to a float\n",
        "type(new_number) # will give float as a result"
      ],
      "execution_count": 0,
      "outputs": [
        {
          "output_type": "execute_result",
          "data": {
            "text/plain": [
              "float"
            ]
          },
          "metadata": {
            "tags": []
          },
          "execution_count": 10
        }
      ]
    },
    {
      "metadata": {
        "id": "jjR-TEjEf70K",
        "colab_type": "text"
      },
      "cell_type": "markdown",
      "source": [
        "Use _int_ when indexing is necessary. Besides that try to use _float_. You do not need to define floating point numbers explicitly. If you use a point in the definition of the number, Python will understand that it is a floating point number. \n",
        "\n",
        "#### Basic mathematical operations with numbers\n",
        "\n",
        "Here are some examples of how you can do mathematical operations on numbers.\n",
        "\n"
      ]
    },
    {
      "metadata": {
        "id": "1p_SS1_iWw4_",
        "colab_type": "code",
        "outputId": "7615b7fc-01d8-481d-cf15-01c5e7c1afe7",
        "colab": {
          "base_uri": "https://localhost:8080/",
          "height": 34
        }
      },
      "cell_type": "code",
      "source": [
        "num1 + num2 # Addition "
      ],
      "execution_count": 0,
      "outputs": [
        {
          "output_type": "execute_result",
          "data": {
            "text/plain": [
              "10.0"
            ]
          },
          "metadata": {
            "tags": []
          },
          "execution_count": 11
        }
      ]
    },
    {
      "metadata": {
        "id": "_2XVZtPmW-ss",
        "colab_type": "code",
        "outputId": "8659314f-55f5-48e1-afd7-0f382d8b3541",
        "colab": {
          "base_uri": "https://localhost:8080/",
          "height": 34
        }
      },
      "cell_type": "code",
      "source": [
        "num1 - num2 # Subtraction"
      ],
      "execution_count": 0,
      "outputs": [
        {
          "output_type": "execute_result",
          "data": {
            "text/plain": [
              "0.0"
            ]
          },
          "metadata": {
            "tags": []
          },
          "execution_count": 12
        }
      ]
    },
    {
      "metadata": {
        "id": "OI4sL1O4XJ35",
        "colab_type": "code",
        "outputId": "1bd7a235-9e94-4c9c-fe2e-89de87e42886",
        "colab": {
          "base_uri": "https://localhost:8080/",
          "height": 34
        }
      },
      "cell_type": "code",
      "source": [
        "negative_num2 = -num2 # Change the sign of a number\n",
        "\n",
        "negative_num2 # You can also asign the result of an \n",
        "              # operation to a new variable"
      ],
      "execution_count": 0,
      "outputs": [
        {
          "output_type": "execute_result",
          "data": {
            "text/plain": [
              "-5.0"
            ]
          },
          "metadata": {
            "tags": []
          },
          "execution_count": 13
        }
      ]
    },
    {
      "metadata": {
        "id": "d8GWSy5Jf70L",
        "colab_type": "code",
        "outputId": "a97d4c65-68f1-4631-94e6-cd1c8bad183e",
        "colab": {
          "base_uri": "https://localhost:8080/",
          "height": 34
        }
      },
      "cell_type": "code",
      "source": [
        "num1*num2 # Multiply"
      ],
      "execution_count": 0,
      "outputs": [
        {
          "output_type": "execute_result",
          "data": {
            "text/plain": [
              "25.0"
            ]
          },
          "metadata": {
            "tags": []
          },
          "execution_count": 14
        }
      ]
    },
    {
      "metadata": {
        "id": "PbXb9KZYf70P",
        "colab_type": "code",
        "outputId": "d7ce6776-b604-4a77-d5c3-e9aab0f4e325",
        "colab": {
          "base_uri": "https://localhost:8080/",
          "height": 34
        }
      },
      "cell_type": "code",
      "source": [
        "pi = 22./7. # Divide\n",
        "pi"
      ],
      "execution_count": 0,
      "outputs": [
        {
          "output_type": "execute_result",
          "data": {
            "text/plain": [
              "3.142857142857143"
            ]
          },
          "metadata": {
            "tags": []
          },
          "execution_count": 15
        }
      ]
    },
    {
      "metadata": {
        "id": "nn1zRCUIf70V",
        "colab_type": "code",
        "outputId": "10951c64-e9d4-42b5-a52c-46b93d3cec7e",
        "colab": {
          "base_uri": "https://localhost:8080/",
          "height": 34
        }
      },
      "cell_type": "code",
      "source": [
        "num1**num2 # Power"
      ],
      "execution_count": 0,
      "outputs": [
        {
          "output_type": "execute_result",
          "data": {
            "text/plain": [
              "3125.0"
            ]
          },
          "metadata": {
            "tags": []
          },
          "execution_count": 16
        }
      ]
    },
    {
      "metadata": {
        "id": "2mM5rSTGwaOH",
        "colab_type": "text"
      },
      "cell_type": "markdown",
      "source": [
        "### Boolean\n",
        "\n",
        "Boolean is a binary form of variable that only takes `True` or `False` as value. It is useful for comparing numbers and other types of variables. "
      ]
    },
    {
      "metadata": {
        "id": "fnLjSIynxAyl",
        "colab_type": "code",
        "outputId": "675401a0-873e-4cc7-b5e6-4622b55e3f7f",
        "colab": {
          "base_uri": "https://localhost:8080/",
          "height": 34
        }
      },
      "cell_type": "code",
      "source": [
        "num1 > num2"
      ],
      "execution_count": 0,
      "outputs": [
        {
          "output_type": "execute_result",
          "data": {
            "text/plain": [
              "False"
            ]
          },
          "metadata": {
            "tags": []
          },
          "execution_count": 17
        }
      ]
    },
    {
      "metadata": {
        "id": "vWO5CLpJxWso",
        "colab_type": "code",
        "outputId": "a02e5ae9-b671-4f9a-8fab-16e0fe6403c6",
        "colab": {
          "base_uri": "https://localhost:8080/",
          "height": 34
        }
      },
      "cell_type": "code",
      "source": [
        "num1 == num2"
      ],
      "execution_count": 0,
      "outputs": [
        {
          "output_type": "execute_result",
          "data": {
            "text/plain": [
              "True"
            ]
          },
          "metadata": {
            "tags": []
          },
          "execution_count": 18
        }
      ]
    },
    {
      "metadata": {
        "id": "8AkMvzo3f70Y",
        "colab_type": "text"
      },
      "cell_type": "markdown",
      "source": [
        "### Data structures \n",
        "\n",
        "Sometimes you need to keep more than one value in one variable. Then you need to use different so called **data structures**. "
      ]
    },
    {
      "metadata": {
        "id": "eLEBAWRu-NoE",
        "colab_type": "text"
      },
      "cell_type": "markdown",
      "source": [
        "#### List\n",
        "\n",
        "One of the first and the most useful data structures in Python is called a **list**. As the name states, it is capable of keeping a list of values. "
      ]
    },
    {
      "metadata": {
        "id": "dTCB5_Dsf70Z",
        "colab_type": "code",
        "colab": {}
      },
      "cell_type": "code",
      "source": [
        "list1 = [] # Empty list\n",
        "list2 = [1,2]\n",
        "list3 = [\"1\",\"2\"]\n",
        "list4 = [[1],[1,2],[1,2,3]] # Nested list (list in a list)\n",
        "list5 = [1,1,2,3,3,3,3]"
      ],
      "execution_count": 0,
      "outputs": []
    },
    {
      "metadata": {
        "id": "8JET0-BGf70d",
        "colab_type": "text"
      },
      "cell_type": "markdown",
      "source": [
        "Similar to getting a letter on a certain index, it is also possible to get elements of a list by indexing. Indexing starts from **0**. "
      ]
    },
    {
      "metadata": {
        "id": "PaOM3K7jf70d",
        "colab_type": "code",
        "outputId": "0759fc42-17ab-4764-b99e-7a4da353b339",
        "colab": {
          "base_uri": "https://localhost:8080/",
          "height": 34
        }
      },
      "cell_type": "code",
      "source": [
        "list2[0] # First element of list2"
      ],
      "execution_count": 0,
      "outputs": [
        {
          "output_type": "execute_result",
          "data": {
            "text/plain": [
              "1"
            ]
          },
          "metadata": {
            "tags": []
          },
          "execution_count": 20
        }
      ]
    },
    {
      "metadata": {
        "id": "4uIXyy_8f70i",
        "colab_type": "code",
        "outputId": "c7fce2d7-1212-4dd0-8957-15c3b433390a",
        "colab": {
          "base_uri": "https://localhost:8080/",
          "height": 34
        }
      },
      "cell_type": "code",
      "source": [
        "list2[1] # Second element of list2"
      ],
      "execution_count": 0,
      "outputs": [
        {
          "output_type": "execute_result",
          "data": {
            "text/plain": [
              "2"
            ]
          },
          "metadata": {
            "tags": []
          },
          "execution_count": 21
        }
      ]
    },
    {
      "metadata": {
        "id": "_OHjKgKKf70l",
        "colab_type": "code",
        "outputId": "94777560-65e8-4106-ef16-fa87e2ec35fb",
        "colab": {
          "base_uri": "https://localhost:8080/",
          "height": 34
        }
      },
      "cell_type": "code",
      "source": [
        "list4[2][1] # Second element of the third element of list4"
      ],
      "execution_count": 0,
      "outputs": [
        {
          "output_type": "execute_result",
          "data": {
            "text/plain": [
              "2"
            ]
          },
          "metadata": {
            "tags": []
          },
          "execution_count": 22
        }
      ]
    },
    {
      "metadata": {
        "id": "yloV7_5of70p",
        "colab_type": "code",
        "outputId": "af7ca096-6e9c-44f1-c513-8e33815df729",
        "colab": {
          "base_uri": "https://localhost:8080/",
          "height": 34
        }
      },
      "cell_type": "code",
      "source": [
        "list1.append(\"Jan\") # Add an element to list1\n",
        "list1.append(\"Piet\")\n",
        "list1"
      ],
      "execution_count": 0,
      "outputs": [
        {
          "output_type": "execute_result",
          "data": {
            "text/plain": [
              "['Jan', 'Piet']"
            ]
          },
          "metadata": {
            "tags": []
          },
          "execution_count": 23
        }
      ]
    },
    {
      "metadata": {
        "id": "NpM9L0XJf70x",
        "colab_type": "code",
        "outputId": "3e74b837-d689-4d2f-d945-a0dff8f36772",
        "colab": {
          "base_uri": "https://localhost:8080/",
          "height": 34
        }
      },
      "cell_type": "code",
      "source": [
        "len(list1) # How long is list1?"
      ],
      "execution_count": 0,
      "outputs": [
        {
          "output_type": "execute_result",
          "data": {
            "text/plain": [
              "2"
            ]
          },
          "metadata": {
            "tags": []
          },
          "execution_count": 24
        }
      ]
    },
    {
      "metadata": {
        "id": "aM2Ep5o6f701",
        "colab_type": "code",
        "outputId": "6dab9d92-b099-4d32-ea68-b6f63d0b795b",
        "colab": {
          "base_uri": "https://localhost:8080/",
          "height": 34
        }
      },
      "cell_type": "code",
      "source": [
        "list1[0] = \"Mark\" # Change first element to \"Mark\"\n",
        "list1"
      ],
      "execution_count": 0,
      "outputs": [
        {
          "output_type": "execute_result",
          "data": {
            "text/plain": [
              "['Mark', 'Piet']"
            ]
          },
          "metadata": {
            "tags": []
          },
          "execution_count": 25
        }
      ]
    },
    {
      "metadata": {
        "id": "noaKs3y5f704",
        "colab_type": "code",
        "outputId": "0fb460fc-bdf8-40cd-b825-f1aee5e62733",
        "colab": {
          "base_uri": "https://localhost:8080/",
          "height": 34
        }
      },
      "cell_type": "code",
      "source": [
        "len(list4) # What is the length of list4?"
      ],
      "execution_count": 0,
      "outputs": [
        {
          "output_type": "execute_result",
          "data": {
            "text/plain": [
              "3"
            ]
          },
          "metadata": {
            "tags": []
          },
          "execution_count": 26
        }
      ]
    },
    {
      "metadata": {
        "id": "UOE1vMEEf707",
        "colab_type": "code",
        "outputId": "c90eff8f-32d7-45f6-e7fc-ae2b8e7ce76b",
        "colab": {
          "base_uri": "https://localhost:8080/",
          "height": 34
        }
      },
      "cell_type": "code",
      "source": [
        "list1.index(\"Piet\") # What is the index of \"Piet\" element?"
      ],
      "execution_count": 0,
      "outputs": [
        {
          "output_type": "execute_result",
          "data": {
            "text/plain": [
              "1"
            ]
          },
          "metadata": {
            "tags": []
          },
          "execution_count": 27
        }
      ]
    },
    {
      "metadata": {
        "id": "hgkMJYeSf709",
        "colab_type": "text"
      },
      "cell_type": "markdown",
      "source": [
        "_index_ only gives the first occurence of the element that you look for in the list. "
      ]
    },
    {
      "metadata": {
        "id": "XT1eB2HHf71G",
        "colab_type": "text"
      },
      "cell_type": "markdown",
      "source": [
        "#### Tuple \n",
        "\n",
        "**Tuple** is similar to **list**, however it is not possible to change or manipulate its elements once it is created. However, it is possible to process it faster in comparison to **list**. If you need to keep a number of constant values in one variable, it is a very useful data structure. Tuples are defined using parantheses. "
      ]
    },
    {
      "metadata": {
        "id": "ZT10wufZf71G",
        "colab_type": "code",
        "colab": {}
      },
      "cell_type": "code",
      "source": [
        "tuple1 = (\"this\",\"is\",\"a\",\"tuple\")"
      ],
      "execution_count": 0,
      "outputs": []
    },
    {
      "metadata": {
        "id": "n3VOciS0f71I",
        "colab_type": "code",
        "outputId": "c975f441-6cd8-48c1-f29c-af0b397e637d",
        "colab": {
          "base_uri": "https://localhost:8080/",
          "height": 34
        }
      },
      "cell_type": "code",
      "source": [
        "tuple1[2] # It is possible to access to its elements similar to list"
      ],
      "execution_count": 0,
      "outputs": [
        {
          "output_type": "execute_result",
          "data": {
            "text/plain": [
              "'a'"
            ]
          },
          "metadata": {
            "tags": []
          },
          "execution_count": 29
        }
      ]
    },
    {
      "metadata": {
        "id": "gSRMh3Qqf71S",
        "colab_type": "code",
        "outputId": "d0caca00-424e-4542-96ee-05d8bf39a712",
        "colab": {
          "base_uri": "https://localhost:8080/",
          "height": 34
        }
      },
      "cell_type": "code",
      "source": [
        "tuple1.index(\"is\") # Index of an element in a tuple"
      ],
      "execution_count": 0,
      "outputs": [
        {
          "output_type": "execute_result",
          "data": {
            "text/plain": [
              "1"
            ]
          },
          "metadata": {
            "tags": []
          },
          "execution_count": 30
        }
      ]
    },
    {
      "metadata": {
        "id": "1COpWnrQf71Y",
        "colab_type": "text"
      },
      "cell_type": "markdown",
      "source": [
        "#### Dictionary \n",
        "\n",
        "Dictionary is actually a key-value storage. You can relate any two variables with each other and use it like that. Think of it like a table with two columns. On the first column there are keys and on the second column there are values. It is defined using curved brackets."
      ]
    },
    {
      "metadata": {
        "id": "TxSwhXEbf71Z",
        "colab_type": "code",
        "colab": {}
      },
      "cell_type": "code",
      "source": [
        "dict1 = {} # Empty dictionary \n",
        "dict2 = {1: \"A\", 2: \"B\"} "
      ],
      "execution_count": 0,
      "outputs": []
    },
    {
      "metadata": {
        "id": "etrv-uZaf71c",
        "colab_type": "code",
        "outputId": "4197d24b-4ea0-4fd8-e562-63ed631e2c9a",
        "colab": {
          "base_uri": "https://localhost:8080/",
          "height": 34
        }
      },
      "cell_type": "code",
      "source": [
        "dict2[1] # Value of the key 1"
      ],
      "execution_count": 0,
      "outputs": [
        {
          "output_type": "execute_result",
          "data": {
            "text/plain": [
              "'A'"
            ]
          },
          "metadata": {
            "tags": []
          },
          "execution_count": 32
        }
      ]
    },
    {
      "metadata": {
        "id": "j9EHeeAIf71g",
        "colab_type": "code",
        "outputId": "12d72923-7fa8-4a7b-cca1-eb2016a6486f",
        "colab": {
          "base_uri": "https://localhost:8080/",
          "height": 34
        }
      },
      "cell_type": "code",
      "source": [
        "dict2[2] # Value of the key 2"
      ],
      "execution_count": 0,
      "outputs": [
        {
          "output_type": "execute_result",
          "data": {
            "text/plain": [
              "'B'"
            ]
          },
          "metadata": {
            "tags": []
          },
          "execution_count": 33
        }
      ]
    },
    {
      "metadata": {
        "id": "50X3h_XUf71o",
        "colab_type": "code",
        "outputId": "db81986d-fa7c-465a-8121-aadb66f75850",
        "colab": {
          "base_uri": "https://localhost:8080/",
          "height": 34
        }
      },
      "cell_type": "code",
      "source": [
        "dict2.keys() # All keys in dict2"
      ],
      "execution_count": 0,
      "outputs": [
        {
          "output_type": "execute_result",
          "data": {
            "text/plain": [
              "dict_keys([1, 2])"
            ]
          },
          "metadata": {
            "tags": []
          },
          "execution_count": 34
        }
      ]
    },
    {
      "metadata": {
        "id": "7lKYp8RPf71q",
        "colab_type": "code",
        "outputId": "7116df2b-faad-476b-a676-094607cac146",
        "colab": {
          "base_uri": "https://localhost:8080/",
          "height": 34
        }
      },
      "cell_type": "code",
      "source": [
        "dict2.values() # All values in dict2"
      ],
      "execution_count": 0,
      "outputs": [
        {
          "output_type": "execute_result",
          "data": {
            "text/plain": [
              "dict_values(['A', 'B'])"
            ]
          },
          "metadata": {
            "tags": []
          },
          "execution_count": 35
        }
      ]
    },
    {
      "metadata": {
        "id": "NywfMxq9f71t",
        "colab_type": "code",
        "outputId": "727bf3b5-9d42-4b39-9e2e-70dd892b95ed",
        "colab": {
          "base_uri": "https://localhost:8080/",
          "height": 34
        }
      },
      "cell_type": "code",
      "source": [
        "dict1[\"Matthias\"] = \"MSB\" # Create a key called \"Matthias\" and make \"MSB\" its value\n",
        "dict1[\"Andreas\"] = \"MSB\"\n",
        "dict1"
      ],
      "execution_count": 0,
      "outputs": [
        {
          "output_type": "execute_result",
          "data": {
            "text/plain": [
              "{'Andreas': 'MSB', 'Matthias': 'MSB'}"
            ]
          },
          "metadata": {
            "tags": []
          },
          "execution_count": 36
        }
      ]
    },
    {
      "metadata": {
        "id": "j8iZ7Gl5f71y",
        "colab_type": "text"
      },
      "cell_type": "markdown",
      "source": [
        "As you can see above, one important thing to be careful with dictionary is the fact that **key-value bindings are not kept in the order that you define them**. "
      ]
    },
    {
      "metadata": {
        "id": "t5esgu3tf72A",
        "colab_type": "text"
      },
      "cell_type": "markdown",
      "source": [
        "## Control flow\n",
        "\n",
        "Main advantage of computer programming is to outsource the repetitive tasks. In order to carry out repetitive tasks, we use instructions that allow us to repeat some lines of code. Thus, we **control the progression of the program** and get the necessary tasks done. "
      ]
    },
    {
      "metadata": {
        "id": "wgRMUZio1f-4",
        "colab_type": "text"
      },
      "cell_type": "markdown",
      "source": [
        "### `for` loop\n",
        "\n",
        "`for` loop allows us to repeat the tasks within a defined number of times. "
      ]
    },
    {
      "metadata": {
        "id": "2wI26YKYf72B",
        "colab_type": "code",
        "outputId": "7c329666-301d-497e-9d90-89dbb8ed4d83",
        "colab": {
          "base_uri": "https://localhost:8080/",
          "height": 104
        }
      },
      "cell_type": "code",
      "source": [
        "for i in range(1,6): # Range is a function that creates a list of integers (from 1 to 5 in here).\n",
        "  print(i)         # i is an arbitrary name for the changing value upon iteration"
      ],
      "execution_count": 0,
      "outputs": [
        {
          "output_type": "stream",
          "text": [
            "1\n",
            "2\n",
            "3\n",
            "4\n",
            "5\n"
          ],
          "name": "stdout"
        }
      ]
    },
    {
      "metadata": {
        "id": "RvQbUd7Sf72D",
        "colab_type": "text"
      },
      "cell_type": "markdown",
      "source": [
        "We need to draw the line between the codes that are going to be run repetitively and the code that is going to run only one time. In order to make this distinction, we use **indentation** in Python. This is why the line under `print(i)` begins with an indentation. Let us make it clear with another example:\n"
      ]
    },
    {
      "metadata": {
        "id": "NwXONcFj3NbT",
        "colab_type": "code",
        "outputId": "f76c39a8-a525-47fd-9c0b-2a6772901595",
        "colab": {
          "base_uri": "https://localhost:8080/",
          "height": 121
        }
      },
      "cell_type": "code",
      "source": [
        "for i in range(2):\n",
        "  print(\"Da\")\n",
        "for i in range(3):\n",
        "  print(\"Bum\")\n",
        "print(\"Another one bites the dust\")"
      ],
      "execution_count": 0,
      "outputs": [
        {
          "output_type": "stream",
          "text": [
            "Da\n",
            "Da\n",
            "Bum\n",
            "Bum\n",
            "Bum\n",
            "Another one bites the dust\n"
          ],
          "name": "stdout"
        }
      ]
    },
    {
      "metadata": {
        "id": "RGtcCtaP3tsQ",
        "colab_type": "text"
      },
      "cell_type": "markdown",
      "source": [
        "As we see in the example above, last line of the text writes only once because last line of the code is not indented. Therefore it is not in the scope of `for` loop to be repeated. \n",
        "\n",
        "Therefore, **indentation is very important in Python and often errors are caused by wrong use of indentation. **"
      ]
    },
    {
      "metadata": {
        "id": "x-OO7uCsf72L",
        "colab_type": "text"
      },
      "cell_type": "markdown",
      "source": [
        "If you want to create a list from the iterated values you can also use something called **list comprehension**. It is basically a for loop that is defined in a list."
      ]
    },
    {
      "metadata": {
        "id": "tG0KSNOKf72L",
        "colab_type": "code",
        "colab": {}
      },
      "cell_type": "code",
      "source": [
        "tuple_list1 = [i.upper() for i in tuple1] # Capitalize letters of each element in the tuple1 and put them in a list\n",
        "tuple_list2 = [i[0:2] for i in tuple1] # Take first two characters of each element in tuple1 and put them in a list"
      ],
      "execution_count": 0,
      "outputs": []
    },
    {
      "metadata": {
        "id": "dHd6oN7hf72P",
        "colab_type": "code",
        "outputId": "9eb6e53f-c00a-4dc0-fd35-55b43d9caf37",
        "colab": {
          "base_uri": "https://localhost:8080/",
          "height": 34
        }
      },
      "cell_type": "code",
      "source": [
        "tuple_list1"
      ],
      "execution_count": 0,
      "outputs": [
        {
          "output_type": "execute_result",
          "data": {
            "text/plain": [
              "['THIS', 'IS', 'A', 'TUPLE']"
            ]
          },
          "metadata": {
            "tags": []
          },
          "execution_count": 40
        }
      ]
    },
    {
      "metadata": {
        "id": "SqFDKfZff72Q",
        "colab_type": "code",
        "outputId": "fde31788-369f-461c-a0d5-d4c4bb92db1b",
        "colab": {
          "base_uri": "https://localhost:8080/",
          "height": 34
        }
      },
      "cell_type": "code",
      "source": [
        "tuple_list2"
      ],
      "execution_count": 0,
      "outputs": [
        {
          "output_type": "execute_result",
          "data": {
            "text/plain": [
              "['th', 'is', 'a', 'tu']"
            ]
          },
          "metadata": {
            "tags": []
          },
          "execution_count": 41
        }
      ]
    },
    {
      "metadata": {
        "id": "Im2sLmfcf72S",
        "colab_type": "code",
        "outputId": "df66f8ab-244b-43e9-ce03-492d342f1083",
        "colab": {
          "base_uri": "https://localhost:8080/",
          "height": 34
        }
      },
      "cell_type": "code",
      "source": [
        "squares = [i**2 for i in range(-5,6)] # Take the squares of the numbers from -5 to 4 and keep them in a list\n",
        "squares"
      ],
      "execution_count": 0,
      "outputs": [
        {
          "output_type": "execute_result",
          "data": {
            "text/plain": [
              "[25, 16, 9, 4, 1, 0, 1, 4, 9, 16, 25]"
            ]
          },
          "metadata": {
            "tags": []
          },
          "execution_count": 42
        }
      ]
    },
    {
      "metadata": {
        "id": "Evwz7R3i5zQN",
        "colab_type": "text"
      },
      "cell_type": "markdown",
      "source": [
        "### `while` loop\n",
        "\n",
        "`while` loop allows for another type of flow of control where you do not need to explicitly set the number of times that code is going to iterate. In this case, we simply set a condition and we want the code to run until this specific condition is met. \n",
        "\n",
        "We have bunch of numbers that are defined in a list below. Let us try to find the first number that is below 0.02 in this list of numbers."
      ]
    },
    {
      "metadata": {
        "id": "VYeiuFWz7wJy",
        "colab_type": "code",
        "outputId": "4c92da68-f1d0-4ae8-922b-83bb7ee8e547",
        "colab": {
          "base_uri": "https://localhost:8080/",
          "height": 69
        }
      },
      "cell_type": "code",
      "source": [
        "data = [0.28298486, 0.18067781, 0.32572769, 0.44280147, 0.03352458,\n",
        "       0.7805121 , 0.21405784, 0.57106005, 0.95434392, 0.8609314 ,\n",
        "       0.81165836, 0.54759082, 0.94250277, 0.74382209, 0.11598458,\n",
        "       0.60183992, 0.60872557, 0.92324317, 0.53444154, 0.15590181,\n",
        "       0.08954717, 0.01616445, 0.80363048, 0.23918459, 0.13884475,\n",
        "       0.96681165, 0.35998196, 0.75188695, 0.12545866, 0.61349904,\n",
        "       0.97776502, 0.55933591, 0.55126962, 0.4543795 , 0.93963609,\n",
        "       0.71758681, 0.06876675, 0.42008658, 0.06885745, 0.34587605,\n",
        "       0.56798061, 0.08677846, 0.94064413, 0.05473897, 0.70897329,\n",
        "       0.94007164, 0.92433487, 0.78702259, 0.96236832, 0.64708012,\n",
        "       0.01391835, 0.40234809, 0.59158976, 0.42890466, 0.41896186,\n",
        "       0.20245804, 0.29939961, 0.31413492, 0.74932118, 0.06079632,\n",
        "       0.28893148, 0.1784896 , 0.36105014, 0.76111468, 0.01471541,\n",
        "       0.74230656, 0.67245809, 0.32550164, 0.22351367, 0.73866749,\n",
        "       0.30408488, 0.5070438 , 0.3138756 , 0.60946762, 0.11696703,\n",
        "       0.41638526, 0.55288289, 0.98533532, 0.65007071, 0.33734402,\n",
        "       0.17006566, 0.50629363, 0.52695524, 0.02454514, 0.81009722,\n",
        "       0.83896229, 0.56991108, 0.56631264, 0.81096758, 0.10758824,\n",
        "       0.33414208, 0.43419095, 0.04696024, 0.8924531 , 0.88096382,\n",
        "       0.07888744, 0.84144423, 0.20973636, 0.13975401, 0.20966378]\n",
        "\n",
        "n = 0\n",
        "\n",
        "while data[n] > 0.02:\n",
        "  n += 1 \n",
        "  # 'n += 1' means add 1 to value of n\n",
        "  \n",
        "print(\"We found a value that is below 0.02!\")\n",
        "print(\"It is\", data[n])\n",
        "print(\"We iterated\", n, \"times to find it.\")\n"
      ],
      "execution_count": 0,
      "outputs": [
        {
          "output_type": "stream",
          "text": [
            "We found a value that is below 0.02!\n",
            "It is 0.01616445\n",
            "We iterated 21 times to find it.\n"
          ],
          "name": "stdout"
        }
      ]
    },
    {
      "metadata": {
        "id": "7qItRDPxCSsJ",
        "colab_type": "text"
      },
      "cell_type": "markdown",
      "source": [
        "### Conditional statements (`if, elif, else`)\n",
        "\n",
        "We use logical conditions in other to change the flow of the program and make decisions. "
      ]
    },
    {
      "metadata": {
        "id": "OXz8hWdbf72X",
        "colab_type": "text"
      },
      "cell_type": "markdown",
      "source": [
        "It is possible to build conditional statements using *if*, *not*, *and*, *or* keywords and boolean values. "
      ]
    },
    {
      "metadata": {
        "id": "Ql5I1nz7f72X",
        "colab_type": "code",
        "outputId": "72ea48dc-33f8-4d74-8057-7f06d9f82ebd",
        "colab": {
          "base_uri": "https://localhost:8080/",
          "height": 52
        }
      },
      "cell_type": "code",
      "source": [
        "for word in tuple1:\n",
        "    if word.startswith(\"t\"): # Print the string if it starts with letter \"t\"\n",
        "        print(word)"
      ],
      "execution_count": 0,
      "outputs": [
        {
          "output_type": "stream",
          "text": [
            "this\n",
            "tuple\n"
          ],
          "name": "stdout"
        }
      ]
    },
    {
      "metadata": {
        "id": "lolUkcsof72a",
        "colab_type": "code",
        "outputId": "713e0925-9ce5-4d30-b612-d442b98cf5a9",
        "colab": {
          "base_uri": "https://localhost:8080/",
          "height": 34
        }
      },
      "cell_type": "code",
      "source": [
        "for word in tuple1:\n",
        "    if word.startswith(\"t\") and word.endswith(\"s\"):\n",
        "        print(word)"
      ],
      "execution_count": 0,
      "outputs": [
        {
          "output_type": "stream",
          "text": [
            "this\n"
          ],
          "name": "stdout"
        }
      ]
    },
    {
      "metadata": {
        "id": "05Ugja6ef72d",
        "colab_type": "code",
        "outputId": "6efd43ab-9307-41d8-8d3d-83eff179b70b",
        "colab": {
          "base_uri": "https://localhost:8080/",
          "height": 52
        }
      },
      "cell_type": "code",
      "source": [
        "for word in tuple1:\n",
        "    if not word.startswith(\"t\"):\n",
        "        print(word)"
      ],
      "execution_count": 0,
      "outputs": [
        {
          "output_type": "stream",
          "text": [
            "is\n",
            "a\n"
          ],
          "name": "stdout"
        }
      ]
    },
    {
      "metadata": {
        "id": "Xve1ENWNf72i",
        "colab_type": "text"
      },
      "cell_type": "markdown",
      "source": [
        "## Functions\n",
        "\n",
        "Functions are entities that we use in order to carry out a structured, routine task. For example, there is a certain task that you want to be carried out. It requires a long piece of code. Instead of copying and pasting your code over and over again, you can define a function and use this function.\n",
        "\n",
        "In order to create a function, we use the keyword **`def`**. For example, following function takes the square root of a number:"
      ]
    },
    {
      "metadata": {
        "id": "QJSvr48NkbON",
        "colab_type": "code",
        "outputId": "20cc3af9-2520-4e53-b6f4-008e9d0ca1ae",
        "colab": {
          "base_uri": "https://localhost:8080/",
          "height": 34
        }
      },
      "cell_type": "code",
      "source": [
        "def square_root(x):\n",
        "  \n",
        "  return x**(0.5)\n",
        "\n",
        "# Take the square root of 4\n",
        "\n",
        "square_root(4)"
      ],
      "execution_count": 0,
      "outputs": [
        {
          "output_type": "execute_result",
          "data": {
            "text/plain": [
              "2.0"
            ]
          },
          "metadata": {
            "tags": []
          },
          "execution_count": 47
        }
      ]
    },
    {
      "metadata": {
        "id": "3mITCbhllChk",
        "colab_type": "text"
      },
      "cell_type": "markdown",
      "source": [
        "Here `x` is the **input argument** of the function. A function can take multiple arguments, it also be without any arguments. \n",
        "\n",
        "We define the scope of the function by indentation. Everything that is indented after function definition is included in the function.\n",
        "\n",
        "Another example, this function takes a list of numbers and checks the list against another number. If the number in the list is less than the other number, the function filters it out of the list. "
      ]
    },
    {
      "metadata": {
        "id": "OHs06vQNlBSO",
        "colab_type": "code",
        "outputId": "1ce885d6-712f-4979-b139-4c5e8a305b3c",
        "colab": {
          "base_uri": "https://localhost:8080/",
          "height": 34
        }
      },
      "cell_type": "code",
      "source": [
        "def collect_bigger_than(check_number,number_list):\n",
        "  \n",
        "  for number in number_list[:]: # number_list[:] creates a copy of the actual \n",
        "    if number < check_number:   # list that we give as input. For convenience,  \n",
        "      number_list.remove(number)# we do not want to modify the input list. \n",
        "  return number_list\n",
        "\n",
        "test_list = [1,45,63,2,24,5,432,10,8]\n",
        "filtered_list = collect_bigger_than(11,test_list)\n",
        "filtered_list "
      ],
      "execution_count": 0,
      "outputs": [
        {
          "output_type": "execute_result",
          "data": {
            "text/plain": [
              "[45, 63, 24, 432]"
            ]
          },
          "metadata": {
            "tags": []
          },
          "execution_count": 48
        }
      ]
    },
    {
      "metadata": {
        "id": "CzhRpl1xqaFz",
        "colab_type": "text"
      },
      "cell_type": "markdown",
      "source": [
        "## Modules \n",
        "\n",
        "In most cases, for example when we want to do statistical or mathematical operations, we can use the code already developed by other people. This code is kept in structures that we call **modules**. In order to use the code in the modules, we need to call them first. We call the modules with **`import`** keyword, preferably in the beginning of the code.\n",
        "\n",
        "For our purpose, there are three commonly used modules (or libraries). These are [numpy](https://numpy.org), [scipy](https://scipy.org) and [matplotlib](https://matplotlib.org/). numpy and scipy are the libraries contain functions we can use for mathematical and statistical analysis. We use matplotlib in order to plot and make graphics from data. \n"
      ]
    },
    {
      "metadata": {
        "id": "P_ZgDu4nyNLn",
        "colab_type": "text"
      },
      "cell_type": "markdown",
      "source": [
        "### Numpy\n",
        "\n",
        "numpy contains the data structures that are useful for doing matrix and vector operations. In short, when we have data with a lot of numbers and we want to process this data, we can use the data structures that are available in numpy.  "
      ]
    },
    {
      "metadata": {
        "id": "b_Q9qySty_FE",
        "colab_type": "text"
      },
      "cell_type": "markdown",
      "source": [
        "#### numpy.ndarray\n",
        "\n",
        "`ndarray` (which stands for N-dimensional array) is the data structure which we can use to keep n-dimensional data. We can have one column or one row of numbers, which is a vector. We can also have multiple columns or rows of numbers, which is a matrix. \n",
        "\n",
        "They are similar to list, however the difference is that you can do mathematical operations using `ndarray`s but not using lists."
      ]
    },
    {
      "metadata": {
        "id": "u10vJbfVzDo_",
        "colab_type": "code",
        "colab": {}
      },
      "cell_type": "code",
      "source": [
        "# Import numpy module and call it \"np\"\n",
        "# so that we do not have to write \"numpy\" \n",
        "# every time we use a function from there.\n",
        "\n",
        "import numpy as np\n",
        "\n",
        "# We can define ndarrays using a list of numbers\n",
        "\n",
        "a = np.array([1,2,3,4,5,6,7])\n",
        "b = np.array([[0.126152, 0.68474827, 0.14820641, 0.51406538, 0.3835323, \n",
        "               0.20486908, 0.27014519]])\n",
        "\n",
        "# An example 10-by-10 matrix \n",
        "\n",
        "c = np.array([[1, 0, 0, 0, 0, 0, 0, 0, 0, 1],\n",
        "              [0, 1, 0, 0, 0, 0, 0, 0, 1, 0],\n",
        "              [0, 0, 1, 0, 0, 0, 0, 1, 0, 0],\n",
        "              [0, 0, 0, 1, 0, 0, 1, 0, 0, 0],\n",
        "              [0, 0, 0, 0, 1, 1, 0, 0, 0, 0],\n",
        "              [0, 0, 0, 0, 1, 1, 0, 0, 0, 0],\n",
        "              [0, 0, 0, 1, 0, 0, 1, 0, 0, 0],\n",
        "              [0, 0, 1, 0, 0, 0, 0, 1, 0, 0],\n",
        "              [0, 1, 0, 0, 0, 0, 0, 0, 1, 0],\n",
        "              [1, 0, 0, 0, 0, 0, 0, 0, 0, 1]])\n"
      ],
      "execution_count": 0,
      "outputs": []
    },
    {
      "metadata": {
        "id": "M8zqufLoZmAP",
        "colab_type": "text"
      },
      "cell_type": "markdown",
      "source": [
        "Some examples for mathematical operations:"
      ]
    },
    {
      "metadata": {
        "id": "S4vibqUhzIBi",
        "colab_type": "code",
        "outputId": "db319db0-c059-4adc-e02d-0062cb71cce6",
        "colab": {
          "base_uri": "https://localhost:8080/",
          "height": 34
        }
      },
      "cell_type": "code",
      "source": [
        "a/2"
      ],
      "execution_count": 0,
      "outputs": [
        {
          "output_type": "execute_result",
          "data": {
            "text/plain": [
              "array([0.5, 1. , 1.5, 2. , 2.5, 3. , 3.5])"
            ]
          },
          "metadata": {
            "tags": []
          },
          "execution_count": 50
        }
      ]
    },
    {
      "metadata": {
        "id": "rTrR428nZ1mF",
        "colab_type": "code",
        "outputId": "caafd48c-6722-4f25-947c-7bde203ba263",
        "colab": {
          "base_uri": "https://localhost:8080/",
          "height": 34
        }
      },
      "cell_type": "code",
      "source": [
        "a + 10"
      ],
      "execution_count": 0,
      "outputs": [
        {
          "output_type": "execute_result",
          "data": {
            "text/plain": [
              "array([11, 12, 13, 14, 15, 16, 17])"
            ]
          },
          "metadata": {
            "tags": []
          },
          "execution_count": 51
        }
      ]
    },
    {
      "metadata": {
        "id": "yVY8KSd-Z5v2",
        "colab_type": "code",
        "outputId": "62d1a9be-779d-4ef6-d503-ea12eb718214",
        "colab": {
          "base_uri": "https://localhost:8080/",
          "height": 34
        }
      },
      "cell_type": "code",
      "source": [
        "a**2"
      ],
      "execution_count": 0,
      "outputs": [
        {
          "output_type": "execute_result",
          "data": {
            "text/plain": [
              "array([ 1,  4,  9, 16, 25, 36, 49])"
            ]
          },
          "metadata": {
            "tags": []
          },
          "execution_count": 52
        }
      ]
    },
    {
      "metadata": {
        "id": "eKFSk6d0bj1U",
        "colab_type": "code",
        "outputId": "5779c99a-051a-45ce-d123-a0e288066c54",
        "colab": {
          "base_uri": "https://localhost:8080/",
          "height": 52
        }
      },
      "cell_type": "code",
      "source": [
        "a*b # Sizes of the vectors should be equal\n",
        "    # to be multiplied"
      ],
      "execution_count": 0,
      "outputs": [
        {
          "output_type": "execute_result",
          "data": {
            "text/plain": [
              "array([[0.126152  , 1.36949654, 0.44461923, 2.05626152, 1.9176615 ,\n",
              "        1.22921448, 1.89101633]])"
            ]
          },
          "metadata": {
            "tags": []
          },
          "execution_count": 53
        }
      ]
    },
    {
      "metadata": {
        "id": "eqcJnWuFu1p_",
        "colab_type": "text"
      },
      "cell_type": "markdown",
      "source": [
        "## Matplotlib\n",
        "\n",
        "matplotlib library helps us to show the data on a plot. It contains multiple functions to draw different types of plots and edit them. "
      ]
    },
    {
      "metadata": {
        "id": "tulJvbhdtM79",
        "colab_type": "text"
      },
      "cell_type": "markdown",
      "source": [
        "# Exercies\n",
        "\n",
        "## 1. Glucose phosphotransferase system \n",
        "\n",
        "<img src=\"http://www.life.illinois.edu/crofts/bioph354/bergman/kanal/transp/pts/ptsa.gif\">\n",
        "\n",
        "1. Using the reaction ids from the given dictionary called **`metabolites`**, generate the following reaction string: \n",
        "\n",
        "     **`glc__D + pep --> g6p + pyr`**\n",
        "\n",
        "2. Key **`S`** in this dictionary corresponds to the value of the stoichiometric coefficient of the metabolite. Find the molar masses of these metabolites (you can use [Wolframalpha](https://www.wolframalpha.com) to find them) and calculate the mass difference between the two sides of the reaction. Is the mass difference close to zero?\n",
        "\n",
        "3. Assuming 100% conversion, how many grams of pyruvate can this reaction produce from 100 mg of glucose?"
      ]
    },
    {
      "metadata": {
        "id": "ENqELJcHpUpW",
        "colab_type": "code",
        "colab": {}
      },
      "cell_type": "code",
      "source": [
        "metabolites = {'D-glucose':{'id':'glc__D','S': -1},\n",
        "               'Phosphenolpyruvate': {'id':'pep','S': -1},\n",
        "               'D-Glucose 6-phosphate':{'id':'g6p','S': 1},\n",
        "               'Pyryvate':{'id':'pyr','S':1}}\n",
        "               "
      ],
      "execution_count": 0,
      "outputs": []
    },
    {
      "metadata": {
        "id": "Xw72j2Vpupie",
        "colab_type": "code",
        "colab": {}
      },
      "cell_type": "code",
      "source": [
        "# Your answer here"
      ],
      "execution_count": 0,
      "outputs": []
    },
    {
      "metadata": {
        "id": "7c6xa5HxuiWr",
        "colab_type": "text"
      },
      "cell_type": "markdown",
      "source": [
        "## 2. Medium left on the bench\n",
        "<center><img src=\"https://ya-webdesign.com/images/vector-laboratory-flask-6.png\" width=20%></center>\n",
        "1. You need to prepare a 100 mL, 0.01 M glucose solution. Calculate how many grams of glucose you need. \n",
        "2. You prepared your medium and you left it open on your bench for 8 hours. Your lab fellows told you that water evaporates from your medium with a speed of 0.025\\*T (mL/h) depending on the temperature of the lab (T is temperature in Celcius). Starting from the moment you prepared your sample, temperature profile of the lab for the next 24 hours is provided below. What is the concentration of the glucose in the medium after 8 hours? Calculate it in molar and g/L. (Tip: You can write a function that converts molar to g/L for glucose).\n",
        "3. What would be the glucose concentration in molar after 24 hours?\n",
        "4. After 24 hours, you realized that you cannot use the medium for your experiment because it is not 0.01 M anymore. You have another experiment where you need 0.05 M glucose medium. How many grams of glucose do you need to add in order to get 0.05 M glucose medium?\n",
        "5. Write a function that takes hours as an input argument and returns the glucose concentration of the medium at the given hour in g/L."
      ]
    },
    {
      "metadata": {
        "id": "RjE6oqP3qigx",
        "colab_type": "code",
        "colab": {}
      },
      "cell_type": "code",
      "source": [
        "# Your answer here \n",
        "\n",
        "import numpy as np \n",
        "\n",
        "# Run this if you accidentally change the temperatures\n",
        "# np.random.seed(4)\n",
        "# lab_temperature = np.round((20+((np.random.rand(24)-0.5))),2)\n",
        "\n",
        "lab_temperature = np.array([20.47, 20.05, 20.47, 20.21, 20.2 , 19.72, 20.48, \n",
        "                            19.51, 19.75, 19.93, 20.28, 19.7 , 20.36, 20.48, \n",
        "                            19.66, 20.1 , 19.51, 19.89, 19.54, 20.46, 19.94, \n",
        "                            20.45, 20.29, 20.37])"
      ],
      "execution_count": 0,
      "outputs": []
    }
  ]
}